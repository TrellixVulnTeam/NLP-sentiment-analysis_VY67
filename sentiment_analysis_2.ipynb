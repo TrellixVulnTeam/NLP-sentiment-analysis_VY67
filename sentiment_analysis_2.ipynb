{
 "cells": [
  {
   "cell_type": "markdown",
   "metadata": {},
   "source": [
    "# Sentiment Analysis with\n",
    "## Word embedding and LSTM\n",
    "\n",
    "In this exercise, we will build a deep LSTM network and insert a fixed pre-trained embedding layer in Keras"
   ]
  },
  {
   "cell_type": "markdown",
   "metadata": {},
   "source": [
    "<img src=\"resources/pipeline.png\" width=\"800px\">"
   ]
  },
  {
   "cell_type": "markdown",
   "metadata": {},
   "source": [
    "## Still Emoji"
   ]
  },
  {
   "cell_type": "code",
   "execution_count": 20,
   "metadata": {
    "code_folding": [
     0
    ]
   },
   "outputs": [],
   "source": [
    "# import \n",
    "import numpy as np\n",
    "import p3_utils\n",
    "from tensorflow.keras.models import Model\n",
    "from tensorflow.keras.layers import Dense, Input, Dropout, LSTM, Activation, Embedding\n",
    "from tensorflow.keras.preprocessing import sequence\n",
    "\n",
    "import matplotlib.pyplot as plt\n",
    "%matplotlib inline\n",
    "%config InlineBackend.figure_format='retina'\n",
    "\n",
    "\n",
    "np.random.seed(1)"
   ]
  },
  {
   "cell_type": "code",
   "execution_count": 21,
   "metadata": {},
   "outputs": [],
   "source": [
    "train_x, test_x, train_y, test_y = p3_utils.load_emoji()"
   ]
  },
  {
   "cell_type": "code",
   "execution_count": 22,
   "metadata": {},
   "outputs": [
    {
     "name": "stdout",
     "output_type": "stream",
     "text": [
      "never talk to me again 3\n",
      "I am proud of your achievements 2\n",
      "It is the worst day in my life 3\n",
      "Miss you so much 0\n",
      "food is life 4\n",
      "I love you mum 0\n",
      "Stop saying bullshit 3\n",
      "congratulations on your acceptance 2\n",
      "The assignment is too long  3\n",
      "I want to go play 1\n"
     ]
    }
   ],
   "source": [
    "for i in range(10):\n",
    "    print(train_x[i], train_y[i])"
   ]
  },
  {
   "cell_type": "markdown",
   "metadata": {},
   "source": [
    "**Load pretrained word embeddings**\n",
    "\n",
    "2 dictionaries are loaded:\n",
    "\n",
    "- `word_to_index`: map a word to its index in the vocabulary\n",
    "    - Example:  `'word' -> 1234`\n",
    "\n",
    "- `word_to_vec_map`: map a word to its embedding\n",
    "    - Example: `'word' -> [0.1, 0.2, ..., 0.45]`\n",
    "\n",
    "When adding a custom embedding layer in Keras, we can only load the pretrained embedding as a big matrix instead of a dictionary. An index will help us locate the entry for a given word."
   ]
  },
  {
   "cell_type": "markdown",
   "metadata": {},
   "source": [
    "### Word Embeddings & One Hot"
   ]
  },
  {
   "cell_type": "code",
   "execution_count": 23,
   "metadata": {},
   "outputs": [
    {
     "name": "stdout",
     "output_type": "stream",
     "text": [
      "data already available, skip downloading.\n",
      "loading glove... this may take a while...\n",
      "glove loaded successfully.\n"
     ]
    }
   ],
   "source": [
    "word_to_index, word_to_vec_map = p3_utils.load_glove_vecs()"
   ]
  },
  {
   "cell_type": "code",
   "execution_count": 24,
   "metadata": {},
   "outputs": [],
   "source": [
    "p3_utils.sentences_to_indices?"
   ]
  },
  {
   "cell_type": "code",
   "execution_count": 25,
   "metadata": {},
   "outputs": [
    {
     "data": {
      "text/plain": [
       "array([[185457., 222471.,      0.,      0.,      0.],\n",
       "       [185457., 174339., 193716.,      0.,      0.]])"
      ]
     },
     "execution_count": 25,
     "metadata": {},
     "output_type": "execute_result"
    }
   ],
   "source": [
    "# Convert word to the index in vocabulary\n",
    "p3_utils.sentences_to_indices(\n",
    "    np.array([\"i like\", \"i hate it\"]),  # array of test sentences\n",
    "    word_to_index, \n",
    "    max_len = 5)"
   ]
  },
  {
   "cell_type": "code",
   "execution_count": 26,
   "metadata": {},
   "outputs": [
    {
     "data": {
      "text/plain": [
       "array([[185457.,      0.,      0.,      0.,      0.],\n",
       "       [222471.,      0.,      0.,      0.,      0.]])"
      ]
     },
     "execution_count": 26,
     "metadata": {},
     "output_type": "execute_result"
    }
   ],
   "source": [
    "p3_utils.sentences_to_indices(\n",
    "    np.array([\"i\", \"like\"]),  # array of test sentences\n",
    "    word_to_index, \n",
    "    max_len = 5)"
   ]
  },
  {
   "cell_type": "code",
   "execution_count": 27,
   "metadata": {},
   "outputs": [
    {
     "name": "stdout",
     "output_type": "stream",
     "text": [
      "max number of words in a sentence: 10\n"
     ]
    }
   ],
   "source": [
    "maxlen = max([len(x.split()) for x in train_x])\n",
    "print('max number of words in a sentence:', maxlen)"
   ]
  },
  {
   "cell_type": "code",
   "execution_count": 28,
   "metadata": {},
   "outputs": [],
   "source": [
    "# Convert training/testing features into index list\n",
    "train_x = p3_utils.sentences_to_indices(train_x, word_to_index, maxlen)\n",
    "test_x = p3_utils.sentences_to_indices(test_x, word_to_index, maxlen)\n",
    "\n",
    "# Convert training/testing labels into one hot array\n",
    "train_y = p3_utils.convert_to_one_hot(train_y, C = 5)\n",
    "test_y = p3_utils.convert_to_one_hot(test_y, C = 5)"
   ]
  },
  {
   "cell_type": "code",
   "execution_count": 29,
   "metadata": {},
   "outputs": [],
   "source": [
    "# Check to make sure the shape looks good\n",
    "assert train_x.shape == (132, maxlen)\n",
    "assert train_y.shape == (132, 5)"
   ]
  },
  {
   "cell_type": "markdown",
   "metadata": {},
   "source": [
    "### Embedding Layer\n",
    "\n",
    "We build an embedding matrix where each row represents a word vector."
   ]
  },
  {
   "cell_type": "code",
   "execution_count": 30,
   "metadata": {},
   "outputs": [],
   "source": [
    "def pretrained_embedding_layer(word_to_index, word_to_vec_map):\n",
    "    \"\"\"\n",
    "    Build and return a Keras Embedding Layer given word_to_vec mapping and word_to_index mapping\n",
    "    \n",
    "    Args:\n",
    "        word_to_index (dict[str->int]): map from a word to its index in vocabulary\n",
    "        word_to_vec_map (dict[str->np.ndarray]): map from a word to a vector with shape (N,) where N is the length of a word vector (50 in our case)\n",
    "\n",
    "    Return:\n",
    "        Keras.layers.Embedding: Embedding layer\n",
    "    \"\"\"\n",
    "    \n",
    "    # Keras requires vocab length start from index 1\n",
    "    vocab_len = len(word_to_index) + 1  \n",
    "    emb_dim = list(word_to_vec_map.values())[0].shape[0]\n",
    "    \n",
    "    # Initialize the embedding matrix as a numpy array of zeros of shape (vocab_len, dimensions of word vectors = emb_dim)\n",
    "    emb_matrix = np.zeros((vocab_len, emb_dim))\n",
    "    \n",
    "    # Set each row \"index\" of the embedding matrix to be the word vector representation of the \"index\"th word of the vocabulary\n",
    "    for word, index in word_to_index.items():\n",
    "        emb_matrix[index, :] = word_to_vec_map[word]\n",
    "\n",
    "    # Define Keras embedding layer with the correct output/input sizes, make it trainable. Use Embedding(...). Make sure to set trainable=False. \n",
    "    return Embedding(\n",
    "        input_dim=vocab_len, \n",
    "        output_dim=emb_dim, \n",
    "        trainable=False,  # Indicating this is a pre-trained embedding \n",
    "        weights=[emb_matrix])"
   ]
  },
  {
   "cell_type": "markdown",
   "metadata": {},
   "source": [
    "### Build the Model"
   ]
  },
  {
   "cell_type": "markdown",
   "metadata": {},
   "source": [
    "<img src=\"resources/deep_lstm.png\" style=\"width:700px;height:400px;\"> <br>\n",
    "<caption><center> A 2-layer LSTM sequence classifier. </center></caption>"
   ]
  },
  {
   "cell_type": "code",
   "execution_count": 160,
   "metadata": {},
   "outputs": [],
   "source": [
    "def build_emoji_model(input_dim, word_to_index, word_to_vec_map):\n",
    "    \"\"\"\n",
    "    Build and return the Keras model\n",
    "    \n",
    "    Args:\n",
    "        input_dim: The dim of input layer\n",
    "        word_to_vec_map (dict[str->np.ndarray]): map from a word to a vector with shape (N,) where N is the length of a word vector (50 in our case)\n",
    "        word_to_index (dict[str->int]): map from a word to its index in vocabulary\n",
    "    \n",
    "    Returns:\n",
    "        Keras.models.Model: 2-layer LSTM model\n",
    "    \"\"\"\n",
    "    \n",
    "    # Input layer\n",
    "    sentence_indices = Input(shape=(input_dim,), dtype='int32')\n",
    "    \n",
    "    # Embedding layer\n",
    "    embedding_layer = pretrained_embedding_layer(word_to_index, word_to_vec_map)\n",
    "    embeddings = embedding_layer(sentence_indices)   \n",
    "    \n",
    "    # 2-layer LSTM\n",
    "    X = LSTM(128, return_sequences=True, recurrent_dropout=0.5)(embeddings)  # N->N RNN\n",
    "    X = Dropout(rate=0.2)(X)\n",
    "    X = LSTM(128, recurrent_dropout=0.5)(X)  # N -> 1 RNN\n",
    "    X = Dropout(rate=0.2)(X)\n",
    "    X = Dense(5, activation='softmax')(X)\n",
    "    \n",
    "    # Create and return model\n",
    "    model = Model(inputs=sentence_indices, outputs=X)\n",
    "    \n",
    "    return model"
   ]
  },
  {
   "cell_type": "code",
   "execution_count": 161,
   "metadata": {},
   "outputs": [
    {
     "name": "stdout",
     "output_type": "stream",
     "text": [
      "Model: \"model_9\"\n",
      "_________________________________________________________________\n",
      "Layer (type)                 Output Shape              Param #   \n",
      "=================================================================\n",
      "input_10 (InputLayer)        [(None, 10)]              0         \n",
      "_________________________________________________________________\n",
      "embedding_9 (Embedding)      (None, 10, 50)            20000050  \n",
      "_________________________________________________________________\n",
      "lstm_18 (LSTM)               (None, 10, 128)           91648     \n",
      "_________________________________________________________________\n",
      "dropout_18 (Dropout)         (None, 10, 128)           0         \n",
      "_________________________________________________________________\n",
      "lstm_19 (LSTM)               (None, 128)               131584    \n",
      "_________________________________________________________________\n",
      "dropout_19 (Dropout)         (None, 128)               0         \n",
      "_________________________________________________________________\n",
      "dense_9 (Dense)              (None, 5)                 645       \n",
      "=================================================================\n",
      "Total params: 20,223,927\n",
      "Trainable params: 223,877\n",
      "Non-trainable params: 20,000,050\n",
      "_________________________________________________________________\n"
     ]
    }
   ],
   "source": [
    "emoji_model = build_emoji_model(\n",
    "    maxlen, \n",
    "    word_to_index, \n",
    "    word_to_vec_map)\n",
    "\n",
    "emoji_model.summary()"
   ]
  },
  {
   "cell_type": "code",
   "execution_count": 162,
   "metadata": {},
   "outputs": [],
   "source": [
    "emoji_model.compile(\n",
    "    loss='categorical_crossentropy', \n",
    "    optimizer='adam', \n",
    "    metrics=['accuracy'])"
   ]
  },
  {
   "cell_type": "code",
   "execution_count": 163,
   "metadata": {},
   "outputs": [
    {
     "name": "stdout",
     "output_type": "stream",
     "text": [
      "Train on 132 samples, validate on 56 samples\n",
      "Epoch 1/80\n",
      "132/132 [==============================] - 3s 20ms/sample - loss: 1.5918 - acc: 0.2576 - val_loss: 1.5318 - val_acc: 0.3036\n",
      "Epoch 2/80\n",
      "132/132 [==============================] - 0s 3ms/sample - loss: 1.5175 - acc: 0.3333 - val_loss: 1.4922 - val_acc: 0.4464\n",
      "Epoch 3/80\n",
      "132/132 [==============================] - 0s 3ms/sample - loss: 1.5008 - acc: 0.3106 - val_loss: 1.4676 - val_acc: 0.4107\n",
      "Epoch 4/80\n",
      "132/132 [==============================] - 0s 3ms/sample - loss: 1.4472 - acc: 0.3712 - val_loss: 1.4373 - val_acc: 0.4643\n",
      "Epoch 5/80\n",
      "132/132 [==============================] - 0s 3ms/sample - loss: 1.4114 - acc: 0.3561 - val_loss: 1.3992 - val_acc: 0.4107\n",
      "Epoch 6/80\n",
      "132/132 [==============================] - 0s 3ms/sample - loss: 1.3409 - acc: 0.5000 - val_loss: 1.3206 - val_acc: 0.5714\n",
      "Epoch 7/80\n",
      "132/132 [==============================] - 0s 3ms/sample - loss: 1.2427 - acc: 0.6288 - val_loss: 1.2365 - val_acc: 0.6607\n",
      "Epoch 8/80\n",
      "132/132 [==============================] - 0s 3ms/sample - loss: 1.1818 - acc: 0.6212 - val_loss: 1.1246 - val_acc: 0.5714\n",
      "Epoch 9/80\n",
      "132/132 [==============================] - 0s 3ms/sample - loss: 1.0045 - acc: 0.7121 - val_loss: 1.0459 - val_acc: 0.5714\n",
      "Epoch 10/80\n",
      "132/132 [==============================] - 0s 3ms/sample - loss: 0.9590 - acc: 0.6212 - val_loss: 0.9245 - val_acc: 0.7321\n",
      "Epoch 11/80\n",
      "132/132 [==============================] - 0s 3ms/sample - loss: 0.7805 - acc: 0.7424 - val_loss: 0.8110 - val_acc: 0.7857\n",
      "Epoch 12/80\n",
      "132/132 [==============================] - 0s 3ms/sample - loss: 0.7826 - acc: 0.7197 - val_loss: 0.7169 - val_acc: 0.7321\n",
      "Epoch 13/80\n",
      "132/132 [==============================] - 0s 3ms/sample - loss: 0.7602 - acc: 0.6894 - val_loss: 0.6877 - val_acc: 0.6964\n",
      "Epoch 14/80\n",
      "132/132 [==============================] - 0s 3ms/sample - loss: 0.6064 - acc: 0.7879 - val_loss: 0.7399 - val_acc: 0.6964\n",
      "Epoch 15/80\n",
      "132/132 [==============================] - 0s 3ms/sample - loss: 0.6427 - acc: 0.7652 - val_loss: 0.6985 - val_acc: 0.7143\n",
      "Epoch 16/80\n",
      "132/132 [==============================] - 0s 3ms/sample - loss: 0.5996 - acc: 0.7424 - val_loss: 0.6508 - val_acc: 0.7679\n",
      "Epoch 17/80\n",
      "132/132 [==============================] - 0s 3ms/sample - loss: 0.5734 - acc: 0.8106 - val_loss: 0.6598 - val_acc: 0.8036\n",
      "Epoch 18/80\n",
      "132/132 [==============================] - 0s 3ms/sample - loss: 0.4660 - acc: 0.8485 - val_loss: 0.6105 - val_acc: 0.7679\n",
      "Epoch 19/80\n",
      "132/132 [==============================] - 0s 3ms/sample - loss: 0.6863 - acc: 0.7652 - val_loss: 0.5364 - val_acc: 0.7679\n",
      "Epoch 20/80\n",
      "132/132 [==============================] - 0s 3ms/sample - loss: 0.5177 - acc: 0.8106 - val_loss: 0.5672 - val_acc: 0.8214\n",
      "Epoch 21/80\n",
      "132/132 [==============================] - 0s 3ms/sample - loss: 0.4592 - acc: 0.8333 - val_loss: 0.4573 - val_acc: 0.8393\n",
      "Epoch 22/80\n",
      "132/132 [==============================] - 0s 3ms/sample - loss: 0.4031 - acc: 0.8712 - val_loss: 0.6078 - val_acc: 0.7857\n",
      "Epoch 23/80\n",
      "132/132 [==============================] - 0s 3ms/sample - loss: 0.4033 - acc: 0.8939 - val_loss: 0.4933 - val_acc: 0.8571\n",
      "Epoch 24/80\n",
      "132/132 [==============================] - 0s 3ms/sample - loss: 0.3873 - acc: 0.8561 - val_loss: 0.3556 - val_acc: 0.8393\n",
      "Epoch 25/80\n",
      "132/132 [==============================] - 0s 3ms/sample - loss: 0.2692 - acc: 0.9091 - val_loss: 0.4202 - val_acc: 0.8393\n",
      "Epoch 26/80\n",
      "132/132 [==============================] - 0s 3ms/sample - loss: 0.4046 - acc: 0.8712 - val_loss: 0.4440 - val_acc: 0.8393\n",
      "Epoch 27/80\n",
      "132/132 [==============================] - 0s 3ms/sample - loss: 0.3387 - acc: 0.8712 - val_loss: 0.4099 - val_acc: 0.8036\n",
      "Epoch 28/80\n",
      "132/132 [==============================] - 0s 3ms/sample - loss: 0.3502 - acc: 0.8864 - val_loss: 0.3916 - val_acc: 0.8393\n",
      "Epoch 29/80\n",
      "132/132 [==============================] - 0s 3ms/sample - loss: 0.4428 - acc: 0.8561 - val_loss: 0.4038 - val_acc: 0.8571\n",
      "Epoch 30/80\n",
      "132/132 [==============================] - 0s 3ms/sample - loss: 0.4850 - acc: 0.8485 - val_loss: 0.4370 - val_acc: 0.8571\n",
      "Epoch 31/80\n",
      "132/132 [==============================] - 0s 3ms/sample - loss: 0.5195 - acc: 0.8030 - val_loss: 0.3713 - val_acc: 0.8393\n",
      "Epoch 32/80\n",
      "132/132 [==============================] - 0s 3ms/sample - loss: 0.3894 - acc: 0.8636 - val_loss: 0.4504 - val_acc: 0.8036\n",
      "Epoch 33/80\n",
      "132/132 [==============================] - 0s 3ms/sample - loss: 0.3865 - acc: 0.8485 - val_loss: 0.3835 - val_acc: 0.8393\n",
      "Epoch 34/80\n",
      "132/132 [==============================] - 0s 3ms/sample - loss: 0.2537 - acc: 0.9167 - val_loss: 0.4240 - val_acc: 0.8393\n",
      "Epoch 35/80\n",
      "132/132 [==============================] - 0s 3ms/sample - loss: 0.3608 - acc: 0.8939 - val_loss: 0.3638 - val_acc: 0.8929\n",
      "Epoch 36/80\n",
      "132/132 [==============================] - 0s 3ms/sample - loss: 0.2489 - acc: 0.9242 - val_loss: 0.2330 - val_acc: 0.9107\n",
      "Epoch 37/80\n",
      "132/132 [==============================] - 0s 3ms/sample - loss: 0.2794 - acc: 0.8864 - val_loss: 0.2238 - val_acc: 0.9464\n",
      "Epoch 38/80\n",
      "132/132 [==============================] - 0s 3ms/sample - loss: 0.2532 - acc: 0.9167 - val_loss: 0.2988 - val_acc: 0.8571\n",
      "Epoch 39/80\n",
      "132/132 [==============================] - 0s 3ms/sample - loss: 0.2052 - acc: 0.9318 - val_loss: 0.3901 - val_acc: 0.8214\n",
      "Epoch 40/80\n",
      "132/132 [==============================] - 0s 3ms/sample - loss: 0.2235 - acc: 0.9091 - val_loss: 0.3401 - val_acc: 0.8571\n",
      "Epoch 41/80\n",
      "132/132 [==============================] - 0s 3ms/sample - loss: 0.2131 - acc: 0.9242 - val_loss: 0.3025 - val_acc: 0.8929\n",
      "Epoch 42/80\n",
      "132/132 [==============================] - 0s 3ms/sample - loss: 0.2116 - acc: 0.9318 - val_loss: 0.3322 - val_acc: 0.8750\n",
      "Epoch 43/80\n",
      "132/132 [==============================] - 0s 3ms/sample - loss: 0.2726 - acc: 0.9015 - val_loss: 0.5979 - val_acc: 0.8036\n",
      "Epoch 44/80\n",
      "132/132 [==============================] - 0s 3ms/sample - loss: 0.2146 - acc: 0.9394 - val_loss: 0.2207 - val_acc: 0.9107\n",
      "Epoch 45/80\n",
      "132/132 [==============================] - 0s 3ms/sample - loss: 0.1352 - acc: 0.9545 - val_loss: 0.1991 - val_acc: 0.9464\n",
      "Epoch 46/80\n",
      "132/132 [==============================] - 0s 3ms/sample - loss: 0.2081 - acc: 0.9318 - val_loss: 0.2755 - val_acc: 0.8750\n",
      "Epoch 47/80\n",
      "132/132 [==============================] - 0s 3ms/sample - loss: 0.2519 - acc: 0.9015 - val_loss: 0.4801 - val_acc: 0.8214\n",
      "Epoch 48/80\n",
      "132/132 [==============================] - 0s 3ms/sample - loss: 0.1992 - acc: 0.9242 - val_loss: 0.2849 - val_acc: 0.8393\n",
      "Epoch 49/80\n",
      "132/132 [==============================] - 0s 3ms/sample - loss: 0.2065 - acc: 0.9318 - val_loss: 0.2843 - val_acc: 0.8929\n",
      "Epoch 50/80\n",
      "132/132 [==============================] - 0s 3ms/sample - loss: 0.2211 - acc: 0.9091 - val_loss: 0.3251 - val_acc: 0.8750\n",
      "Epoch 51/80\n",
      "132/132 [==============================] - 0s 3ms/sample - loss: 0.1606 - acc: 0.9545 - val_loss: 0.3296 - val_acc: 0.8571\n",
      "Epoch 52/80\n",
      "132/132 [==============================] - 0s 3ms/sample - loss: 0.2000 - acc: 0.9318 - val_loss: 0.3042 - val_acc: 0.8929\n",
      "Epoch 53/80\n",
      "132/132 [==============================] - 0s 3ms/sample - loss: 0.1898 - acc: 0.9470 - val_loss: 0.3229 - val_acc: 0.8929\n",
      "Epoch 54/80\n",
      "132/132 [==============================] - 0s 3ms/sample - loss: 0.1263 - acc: 0.9621 - val_loss: 0.3914 - val_acc: 0.8750\n",
      "Epoch 55/80\n",
      "132/132 [==============================] - 0s 3ms/sample - loss: 0.1889 - acc: 0.9167 - val_loss: 0.3123 - val_acc: 0.9107\n",
      "Epoch 56/80\n",
      "132/132 [==============================] - 0s 3ms/sample - loss: 0.1655 - acc: 0.9470 - val_loss: 0.2374 - val_acc: 0.8929\n",
      "Epoch 57/80\n",
      "132/132 [==============================] - 0s 3ms/sample - loss: 0.1412 - acc: 0.9621 - val_loss: 0.3077 - val_acc: 0.8750\n",
      "Epoch 58/80\n",
      "132/132 [==============================] - 0s 3ms/sample - loss: 0.1159 - acc: 0.9621 - val_loss: 0.3401 - val_acc: 0.8750\n",
      "Epoch 59/80\n",
      "132/132 [==============================] - 0s 3ms/sample - loss: 0.1381 - acc: 0.9470 - val_loss: 0.4191 - val_acc: 0.8393\n",
      "Epoch 60/80\n",
      "132/132 [==============================] - 0s 3ms/sample - loss: 0.1562 - acc: 0.9318 - val_loss: 0.2868 - val_acc: 0.8929\n",
      "Epoch 61/80\n",
      "132/132 [==============================] - 0s 3ms/sample - loss: 0.1735 - acc: 0.9470 - val_loss: 0.3207 - val_acc: 0.8571\n",
      "Epoch 62/80\n",
      "132/132 [==============================] - 0s 3ms/sample - loss: 0.1883 - acc: 0.9318 - val_loss: 0.3654 - val_acc: 0.8393\n",
      "Epoch 63/80\n",
      "132/132 [==============================] - 0s 3ms/sample - loss: 0.1243 - acc: 0.9545 - val_loss: 0.2177 - val_acc: 0.9464\n",
      "Epoch 64/80\n",
      "132/132 [==============================] - 0s 3ms/sample - loss: 0.0884 - acc: 0.9621 - val_loss: 0.2036 - val_acc: 0.9643\n",
      "Epoch 65/80\n",
      "132/132 [==============================] - 0s 3ms/sample - loss: 0.1047 - acc: 0.9470 - val_loss: 0.4126 - val_acc: 0.8750\n",
      "Epoch 66/80\n",
      "132/132 [==============================] - 0s 3ms/sample - loss: 0.1167 - acc: 0.9697 - val_loss: 0.2968 - val_acc: 0.9107\n",
      "Epoch 67/80\n",
      "132/132 [==============================] - 0s 3ms/sample - loss: 0.1488 - acc: 0.9394 - val_loss: 0.2683 - val_acc: 0.9107\n",
      "Epoch 68/80\n",
      "132/132 [==============================] - 0s 3ms/sample - loss: 0.0637 - acc: 0.9773 - val_loss: 0.2982 - val_acc: 0.9107\n",
      "Epoch 69/80\n",
      "132/132 [==============================] - 0s 3ms/sample - loss: 0.1411 - acc: 0.9470 - val_loss: 0.3095 - val_acc: 0.9107\n",
      "Epoch 70/80\n",
      "132/132 [==============================] - 0s 3ms/sample - loss: 0.1087 - acc: 0.9697 - val_loss: 0.4458 - val_acc: 0.8750\n",
      "Epoch 71/80\n",
      "132/132 [==============================] - 0s 3ms/sample - loss: 0.0983 - acc: 0.9621 - val_loss: 0.2254 - val_acc: 0.8929\n",
      "Epoch 72/80\n",
      "132/132 [==============================] - 0s 3ms/sample - loss: 0.0711 - acc: 0.9621 - val_loss: 0.3099 - val_acc: 0.8929\n",
      "Epoch 73/80\n",
      "132/132 [==============================] - 0s 3ms/sample - loss: 0.1445 - acc: 0.9394 - val_loss: 0.2294 - val_acc: 0.9107\n",
      "Epoch 74/80\n",
      "132/132 [==============================] - 0s 3ms/sample - loss: 0.0478 - acc: 0.9848 - val_loss: 0.3337 - val_acc: 0.8929\n",
      "Epoch 75/80\n",
      "132/132 [==============================] - 0s 3ms/sample - loss: 0.0682 - acc: 0.9848 - val_loss: 0.4496 - val_acc: 0.8750\n",
      "Epoch 76/80\n",
      "132/132 [==============================] - 0s 3ms/sample - loss: 0.0665 - acc: 0.9848 - val_loss: 0.2698 - val_acc: 0.9107\n",
      "Epoch 77/80\n",
      "132/132 [==============================] - 0s 3ms/sample - loss: 0.0368 - acc: 0.9924 - val_loss: 0.1543 - val_acc: 0.9286\n",
      "Epoch 78/80\n",
      "132/132 [==============================] - 0s 3ms/sample - loss: 0.0420 - acc: 0.9848 - val_loss: 0.2887 - val_acc: 0.9286\n",
      "Epoch 79/80\n",
      "132/132 [==============================] - 0s 3ms/sample - loss: 0.0622 - acc: 0.9848 - val_loss: 0.5227 - val_acc: 0.8929\n",
      "Epoch 80/80\n",
      "132/132 [==============================] - 0s 3ms/sample - loss: 0.0463 - acc: 0.9848 - val_loss: 0.4641 - val_acc: 0.8929\n"
     ]
    }
   ],
   "source": [
    "history = emoji_model.fit(\n",
    "    train_x, \n",
    "    train_y, \n",
    "    epochs = 80,  \n",
    "    shuffle=True,\n",
    "    validation_data=[test_x, test_y]\n",
    ")"
   ]
  },
  {
   "cell_type": "code",
   "execution_count": 164,
   "metadata": {},
   "outputs": [
    {
     "data": {
      "image/png": "[encoded data removed]",
      "text/plain": [
       "<Figure size 432x288 with 1 Axes>"
      ]
     },
     "metadata": {
      "image/png": {
       "height": 248,
       "width": 372
      },
      "needs_background": "light"
     },
     "output_type": "display_data"
    }
   ],
   "source": [
    "p3_utils.plot_history(history, ['loss', 'val_loss'])"
   ]
  },
  {
   "cell_type": "code",
   "execution_count": 165,
   "metadata": {},
   "outputs": [
    {
     "data": {
      "image/png": "[encoded data removed]",
      "text/plain": [
       "<Figure size 432x288 with 1 Axes>"
      ]
     },
     "metadata": {
      "image/png": {
       "height": 248,
       "width": 372
      },
      "needs_background": "light"
     },
     "output_type": "display_data"
    }
   ],
   "source": [
    "p3_utils.plot_history(history, ['acc', 'val_acc'])"
   ]
  },
  {
   "cell_type": "code",
   "execution_count": 166,
   "metadata": {},
   "outputs": [
    {
     "name": "stdout",
     "output_type": "stream",
     "text": [
      "132/132 [==============================] - 0s 975us/sample - loss: 0.0127 - acc: 1.0000\n",
      "56/56 [==============================] - 0s 908us/sample - loss: 0.4641 - acc: 0.8929\n"
     ]
    },
    {
     "data": {
      "text/plain": [
       "[0.46414500900677275, 0.89285713]"
      ]
     },
     "execution_count": 166,
     "metadata": {},
     "output_type": "execute_result"
    }
   ],
   "source": [
    "emoji_model.evaluate(train_x, train_y)\n",
    "emoji_model.evaluate(test_x, test_y)"
   ]
  },
  {
   "cell_type": "markdown",
   "metadata": {},
   "source": [
    "### Sava and Load Models"
   ]
  },
  {
   "cell_type": "code",
   "execution_count": 167,
   "metadata": {},
   "outputs": [],
   "source": [
    "# import\n",
    "import h5py"
   ]
  },
  {
   "cell_type": "markdown",
   "metadata": {},
   "source": [
    "Two parts need to be saved inorder to use the model in prod:\n",
    "\n",
    "1. Neural Network Structure\n",
    "2. Trained Weights (Matrix)\n",
    "\n",
    "We will save them separately. This makes it easy to manage multiple versions of weights and we can always choose which version to go for production."
   ]
  },
  {
   "cell_type": "code",
   "execution_count": 168,
   "metadata": {},
   "outputs": [],
   "source": [
    "import os\n",
    "\n",
    "model_root = 'resources/emoji_model'\n",
    "os.makedirs(model_root, exist_ok=True)"
   ]
  },
  {
   "cell_type": "code",
   "execution_count": 169,
   "metadata": {},
   "outputs": [
    {
     "data": {
      "text/plain": [
       "'resources/emoji_model'"
      ]
     },
     "execution_count": 169,
     "metadata": {},
     "output_type": "execute_result"
    }
   ],
   "source": [
    "model_root"
   ]
  },
  {
   "cell_type": "code",
   "execution_count": 170,
   "metadata": {},
   "outputs": [],
   "source": [
    "# Save model structure as json\n",
    "with open(os.path.join(model_root, \"network.json\"), \"w\") as fp:\n",
    "    fp.write(emoji_model.to_json())\n",
    "\n",
    "# Save model weights\n",
    "emoji_model.save_weights(os.path.join(model_root, \"weights.h5\"))"
   ]
  },
  {
   "cell_type": "markdown",
   "metadata": {},
   "source": [
    "Download and load a pretrained model "
   ]
  },
  {
   "cell_type": "code",
   "execution_count": 171,
   "metadata": {},
   "outputs": [
    {
     "name": "stdout",
     "output_type": "stream",
     "text": [
      "data already available, skip downloading.\n"
     ]
    }
   ],
   "source": [
    "network_path, weights_path = p3_utils.download_best_emoji_model()"
   ]
  },
  {
   "cell_type": "code",
   "execution_count": 172,
   "metadata": {},
   "outputs": [],
   "source": [
    "from tensorflow.keras.models import model_from_json\n",
    "\n",
    "# Load model structure\n",
    "with open(network_path, \"r\") as fp:\n",
    "    emoji_model_best = model_from_json(fp.read())\n",
    "\n",
    "# Load model weights\n",
    "emoji_model_best.load_weights(weights_path)"
   ]
  },
  {
   "cell_type": "code",
   "execution_count": 173,
   "metadata": {},
   "outputs": [],
   "source": [
    "emoji_model_best.compile(\n",
    "    loss='binary_crossentropy', \n",
    "    optimizer='adam', \n",
    "    metrics=['accuracy'])"
   ]
  },
  {
   "cell_type": "code",
   "execution_count": 174,
   "metadata": {},
   "outputs": [
    {
     "name": "stdout",
     "output_type": "stream",
     "text": [
      "132/132 [==============================] - 1s 4ms/sample - loss: 1.6881e-04 - acc: 1.0000\n",
      "56/56 [==============================] - 0s 962us/sample - loss: 0.2815 - acc: 0.9286\n"
     ]
    },
    {
     "data": {
      "text/plain": [
       "[0.2815101998192923, 0.9285714]"
      ]
     },
     "execution_count": 174,
     "metadata": {},
     "output_type": "execute_result"
    }
   ],
   "source": [
    "emoji_model_best.evaluate(train_x, train_y)\n",
    "emoji_model_best.evaluate(test_x, test_y)"
   ]
  },
  {
   "cell_type": "code",
   "execution_count": 175,
   "metadata": {},
   "outputs": [],
   "source": [
    "def predict_emoji(text):\n",
    "    x = p3_utils.sentences_to_indices(\n",
    "        np.array([text]), \n",
    "        word_to_index, \n",
    "        maxlen)\n",
    "    \n",
    "    probs = emoji_model_best.predict(x)\n",
    "    pred = np.argmax(probs)\n",
    "    \n",
    "    return p3_utils.label_to_emoji(pred)"
   ]
  },
  {
   "cell_type": "code",
   "execution_count": 176,
   "metadata": {},
   "outputs": [
    {
     "name": "stdout",
     "output_type": "stream",
     "text": [
      "i do not miss you ❤️\n"
     ]
    }
   ],
   "source": [
    "test = 'i do not miss you'\n",
    "print(test, predict_emoji(test))"
   ]
  },
  {
   "cell_type": "code",
   "execution_count": 177,
   "metadata": {
    "scrolled": true
   },
   "outputs": [
    {
     "name": "stdout",
     "output_type": "stream",
     "text": [
      "i love you ❤️\n",
      "it is horrible 😞\n",
      "funny lol 😄\n",
      "lets play with a ball ⚾\n",
      "food is ready 🍴\n",
      "I am not pleased 😞\n",
      "I am never happy 😄\n",
      "i do not hate it 😞\n",
      "i do not miss you ❤️\n",
      "i do not like it ❤️\n"
     ]
    }
   ],
   "source": [
    "tests = [\n",
    "    \"i love you\", \n",
    "    \"it is horrible\", \n",
    "    \"funny lol\", \n",
    "    \"lets play with a ball\", \n",
    "    \"food is ready\", \n",
    "    \"I am not pleased\",\n",
    "    \"I am never happy\",\n",
    "    \"i do not hate it\",\n",
    "    \"i do not miss you\",\n",
    "    \"i do not like it\"]\n",
    "\n",
    "for test in tests:\n",
    "    print(test, predict_emoji(test))"
   ]
  },
  {
   "cell_type": "code",
   "execution_count": null,
   "metadata": {},
   "outputs": [],
   "source": []
  }
 ],
 "metadata": {
  "kernelspec": {
   "display_name": "Python 3",
   "language": "python",
   "name": "python3"
  },
  "language_info": {
   "codemirror_mode": {
    "name": "ipython",
    "version": 3
   },
   "file_extension": ".py",
   "mimetype": "text/x-python",
   "name": "python",
   "nbconvert_exporter": "python",
   "pygments_lexer": "ipython3",
   "version": "3.7.4"
  }
 },
 "nbformat": 4,
 "nbformat_minor": 2
}
