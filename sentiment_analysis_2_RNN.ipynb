{
 "cells": [
  {
   "cell_type": "markdown",
   "metadata": {},
   "source": [
    "# Sentiment Analysis with Word Embedding and LSTM\n",
    "\n",
    "In this exercise, we will build a deep LSTM network and insert a fixed pre-trained embedding layer in Keras"
   ]
  },
  {
   "cell_type": "markdown",
   "metadata": {},
   "source": [
    "<img src=\"resources/pipeline.png\" width=\"800px\">"
   ]
  },
  {
   "cell_type": "markdown",
   "metadata": {},
   "source": [
    "## Still Emoji"
   ]
  },
  {
   "cell_type": "code",
   "execution_count": 2,
   "metadata": {
    "code_folding": [
     0
    ],
    "scrolled": true
   },
   "outputs": [],
   "source": [
    "# import \n",
    "import numpy as np\n",
    "import utils\n",
    "from tensorflow.keras.models import Model\n",
    "from tensorflow.keras.layers import Dense, Input, Dropout, LSTM, Activation, Embedding\n",
    "from tensorflow.keras.preprocessing import sequence\n",
    "\n",
    "import matplotlib.pyplot as plt\n",
    "%matplotlib inline\n",
    "%config InlineBackend.figure_format='retina'\n",
    "\n",
    "\n",
    "np.random.seed(1)"
   ]
  },
  {
   "cell_type": "code",
   "execution_count": 3,
   "metadata": {},
   "outputs": [],
   "source": [
    "train_x, test_x, train_y, test_y = utils.load_emoji()"
   ]
  },
  {
   "cell_type": "code",
   "execution_count": 4,
   "metadata": {
    "scrolled": true
   },
   "outputs": [
    {
     "name": "stdout",
     "output_type": "stream",
     "text": [
      "never talk to me again 3\n",
      "I am proud of your achievements 2\n",
      "It is the worst day in my life 3\n",
      "Miss you so much 0\n",
      "food is life 4\n",
      "I love you mum 0\n",
      "Stop saying bullshit 3\n",
      "congratulations on your acceptance 2\n",
      "The assignment is too long  3\n",
      "I want to go play 1\n"
     ]
    }
   ],
   "source": [
    "for i in range(10):\n",
    "    print(train_x[i], train_y[i])"
   ]
  },
  {
   "cell_type": "markdown",
   "metadata": {},
   "source": [
    "**Load pretrained word embeddings**\n",
    "\n",
    "2 dictionaries are loaded:\n",
    "\n",
    "- `word_to_index`: map a word to its index in the vocabulary\n",
    "    - Example:  `'word' -> 1234`\n",
    "\n",
    "- `word_to_vec_map`: map a word to its embedding\n",
    "    - Example: `'word' -> [0.1, 0.2, ..., 0.45]`\n",
    "\n",
    "When adding a custom embedding layer in Keras, we can only load the pretrained embedding as a big matrix instead of a dictionary. An index will help us locate the entry for a given word."
   ]
  },
  {
   "cell_type": "markdown",
   "metadata": {},
   "source": [
    "### Word Embeddings & One Hot"
   ]
  },
  {
   "cell_type": "code",
   "execution_count": 5,
   "metadata": {},
   "outputs": [
    {
     "name": "stdout",
     "output_type": "stream",
     "text": [
      "data already available, skip downloading.\n",
      "loading glove... this may take a while...\n",
      "glove loaded successfully.\n"
     ]
    }
   ],
   "source": [
    "word_to_index, word_to_vec_map = utils.load_glove_vecs()"
   ]
  },
  {
   "cell_type": "code",
   "execution_count": 5,
   "metadata": {},
   "outputs": [],
   "source": [
    "utils.sentences_to_indices?"
   ]
  },
  {
   "cell_type": "code",
   "execution_count": 6,
   "metadata": {},
   "outputs": [
    {
     "data": {
      "text/plain": [
       "array([[185457., 222471.,      0.,      0.,      0.],\n",
       "       [185457., 174339., 193716.,      0.,      0.]])"
      ]
     },
     "execution_count": 6,
     "metadata": {},
     "output_type": "execute_result"
    }
   ],
   "source": [
    "# Convert word to the index in vocabulary\n",
    "utils.sentences_to_indices(\n",
    "    np.array([\"i like\", \"i hate it\"]),  # array of test sentences\n",
    "    word_to_index, \n",
    "    max_len = 5)"
   ]
  },
  {
   "cell_type": "code",
   "execution_count": 7,
   "metadata": {},
   "outputs": [
    {
     "data": {
      "text/plain": [
       "array([[185457.,      0.,      0.,      0.,      0.],\n",
       "       [222471.,      0.,      0.,      0.,      0.]])"
      ]
     },
     "execution_count": 7,
     "metadata": {},
     "output_type": "execute_result"
    }
   ],
   "source": [
    "utils.sentences_to_indices(\n",
    "    np.array([\"i\", \"like\"]),  # array of test sentences\n",
    "    word_to_index, \n",
    "    max_len = 5)"
   ]
  },
  {
   "cell_type": "code",
   "execution_count": 8,
   "metadata": {},
   "outputs": [
    {
     "name": "stdout",
     "output_type": "stream",
     "text": [
      "max number of words in a sentence: 10\n"
     ]
    }
   ],
   "source": [
    "maxlen = max([len(x.split()) for x in train_x])\n",
    "print('max number of words in a sentence:', maxlen)"
   ]
  },
  {
   "cell_type": "code",
   "execution_count": 9,
   "metadata": {},
   "outputs": [],
   "source": [
    "# Convert training/testing features into index list\n",
    "train_x = utils.sentences_to_indices(train_x, word_to_index, maxlen)\n",
    "test_x = utils.sentences_to_indices(test_x, word_to_index, maxlen)\n",
    "\n",
    "# Convert training/testing labels into one hot array\n",
    "train_y = utils.convert_to_one_hot(train_y, C = 5)\n",
    "test_y = utils.convert_to_one_hot(test_y, C = 5)"
   ]
  },
  {
   "cell_type": "code",
   "execution_count": 10,
   "metadata": {},
   "outputs": [],
   "source": [
    "# Check to make sure the shape looks good\n",
    "assert train_x.shape == (132, maxlen)\n",
    "assert train_y.shape == (132, 5)"
   ]
  },
  {
   "cell_type": "markdown",
   "metadata": {},
   "source": [
    "### Embedding Layer\n",
    "\n",
    "We build an embedding matrix where each row represents a word vector."
   ]
  },
  {
   "cell_type": "code",
   "execution_count": 11,
   "metadata": {},
   "outputs": [],
   "source": [
    "def pretrained_embedding_layer(word_to_index, word_to_vec_map):\n",
    "    \"\"\"\n",
    "    Build and return a Keras Embedding Layer given word_to_vec mapping and word_to_index mapping\n",
    "    \n",
    "    Args:\n",
    "        word_to_index (dict[str->int]): map from a word to its index in vocabulary\n",
    "        word_to_vec_map (dict[str->np.ndarray]): map from a word to a vector with shape (N,) where N is the length of a word vector (50 in our case)\n",
    "\n",
    "    Return:\n",
    "        Keras.layers.Embedding: Embedding layer\n",
    "    \"\"\"\n",
    "    \n",
    "    # Keras requires vocab length start from index 1\n",
    "    vocab_len = len(word_to_index) + 1  \n",
    "    emb_dim = list(word_to_vec_map.values())[0].shape[0]\n",
    "    \n",
    "    # Initialize the embedding matrix as a numpy array of zeros of shape (vocab_len, dimensions of word vectors = emb_dim)\n",
    "    emb_matrix = np.zeros((vocab_len, emb_dim))\n",
    "    \n",
    "    # Set each row \"index\" of the embedding matrix to be the word vector representation of the \"index\"th word of the vocabulary\n",
    "    for word, index in word_to_index.items():\n",
    "        emb_matrix[index, :] = word_to_vec_map[word]\n",
    "\n",
    "    # Define Keras embedding layer with the correct output/input sizes, make it trainable. Use Embedding(...). Make sure to set trainable=False. \n",
    "    return Embedding(\n",
    "        input_dim=vocab_len, \n",
    "        output_dim=emb_dim, \n",
    "        trainable=False,  # Indicating this is a pre-trained embedding \n",
    "        weights=[emb_matrix])"
   ]
  },
  {
   "cell_type": "markdown",
   "metadata": {},
   "source": [
    "### Build the Model"
   ]
  },
  {
   "cell_type": "markdown",
   "metadata": {},
   "source": [
    "<img src=\"resources/deep_lstm.png\" style=\"width:700px;height:400px;\"> <br>\n",
    "<caption><center> A 2-layer LSTM sequence classifier. </center></caption>"
   ]
  },
  {
   "cell_type": "code",
   "execution_count": 12,
   "metadata": {},
   "outputs": [],
   "source": [
    "def build_emoji_model(input_dim, word_to_index, word_to_vec_map):\n",
    "    \"\"\"\n",
    "    Build and return the Keras model\n",
    "    \n",
    "    Args:\n",
    "        input_dim: The dim of input layer\n",
    "        word_to_vec_map (dict[str->np.ndarray]): map from a word to a vector with shape (N,) where N is the length of a word vector (50 in our case)\n",
    "        word_to_index (dict[str->int]): map from a word to its index in vocabulary\n",
    "    \n",
    "    Returns:\n",
    "        Keras.models.Model: 2-layer LSTM model\n",
    "    \"\"\"\n",
    "    \n",
    "    # Input layer\n",
    "    sentence_indices = Input(shape=(input_dim,), dtype='int32')\n",
    "    \n",
    "    # Embedding layer\n",
    "    embedding_layer = pretrained_embedding_layer(word_to_index, word_to_vec_map)\n",
    "    embeddings = embedding_layer(sentence_indices)   \n",
    "    \n",
    "    # 2-layer LSTM\n",
    "    X = LSTM(128, return_sequences=True, recurrent_dropout=0.5)(embeddings)  # N->N RNN\n",
    "    X = Dropout(rate=0.2)(X)\n",
    "    X = LSTM(128, recurrent_dropout=0.5)(X)  # N -> 1 RNN\n",
    "    X = Dropout(rate=0.2)(X)\n",
    "    X = Dense(5, activation='softmax')(X)\n",
    "    \n",
    "    # Create and return model\n",
    "    model = Model(inputs=sentence_indices, outputs=X)\n",
    "    \n",
    "    return model"
   ]
  },
  {
   "cell_type": "code",
   "execution_count": 14,
   "metadata": {},
   "outputs": [
    {
     "name": "stdout",
     "output_type": "stream",
     "text": [
      "WARNING:tensorflow:From C:\\Users\\chenj\\AppData\\Roaming\\Python\\Python37\\site-packages\\tensorflow\\python\\keras\\initializers.py:119: calling RandomUniform.__init__ (from tensorflow.python.ops.init_ops) with dtype is deprecated and will be removed in a future version.\n",
      "Instructions for updating:\n",
      "Call initializer instance with the dtype argument instead of passing it to the constructor\n",
      "WARNING:tensorflow:From C:\\Users\\chenj\\AppData\\Roaming\\Python\\Python37\\site-packages\\tensorflow\\python\\ops\\init_ops.py:1251: calling VarianceScaling.__init__ (from tensorflow.python.ops.init_ops) with dtype is deprecated and will be removed in a future version.\n",
      "Instructions for updating:\n",
      "Call initializer instance with the dtype argument instead of passing it to the constructor\n",
      "Model: \"model\"\n",
      "_________________________________________________________________\n",
      "Layer (type)                 Output Shape              Param #   \n",
      "=================================================================\n",
      "input_1 (InputLayer)         [(None, 10)]              0         \n",
      "_________________________________________________________________\n",
      "embedding (Embedding)        (None, 10, 50)            20000050  \n",
      "_________________________________________________________________\n",
      "lstm (LSTM)                  (None, 10, 128)           91648     \n",
      "_________________________________________________________________\n",
      "dropout (Dropout)            (None, 10, 128)           0         \n",
      "_________________________________________________________________\n",
      "lstm_1 (LSTM)                (None, 128)               131584    \n",
      "_________________________________________________________________\n",
      "dropout_1 (Dropout)          (None, 128)               0         \n",
      "_________________________________________________________________\n",
      "dense (Dense)                (None, 5)                 645       \n",
      "=================================================================\n",
      "Total params: 20,223,927\n",
      "Trainable params: 223,877\n",
      "Non-trainable params: 20,000,050\n",
      "_________________________________________________________________\n"
     ]
    }
   ],
   "source": [
    "emoji_model = build_emoji_model(\n",
    "    maxlen, \n",
    "    word_to_index, \n",
    "    word_to_vec_map)\n",
    "\n",
    "emoji_model.summary()"
   ]
  },
  {
   "cell_type": "code",
   "execution_count": 15,
   "metadata": {},
   "outputs": [],
   "source": [
    "emoji_model.compile(\n",
    "    loss='categorical_crossentropy', \n",
    "    optimizer='adam', \n",
    "    metrics=['accuracy'])"
   ]
  },
  {
   "cell_type": "code",
   "execution_count": 16,
   "metadata": {},
   "outputs": [
    {
     "name": "stdout",
     "output_type": "stream",
     "text": [
      "Train on 132 samples, validate on 56 samples\n",
      "WARNING:tensorflow:From C:\\Users\\chenj\\AppData\\Roaming\\Python\\Python37\\site-packages\\tensorflow\\python\\ops\\math_grad.py:1250: add_dispatch_support.<locals>.wrapper (from tensorflow.python.ops.array_ops) is deprecated and will be removed in a future version.\n",
      "Instructions for updating:\n",
      "Use tf.where in 2.0, which has the same broadcast rule as np.where\n",
      "Epoch 1/80\n",
      "132/132 [==============================] - 1s 9ms/sample - loss: 1.5890 - acc: 0.2424 - val_loss: 1.5261 - val_acc: 0.3393\n",
      "Epoch 2/80\n",
      "132/132 [==============================] - 0s 824us/sample - loss: 1.5142 - acc: 0.3182 - val_loss: 1.4868 - val_acc: 0.3393\n",
      "Epoch 3/80\n",
      "132/132 [==============================] - 0s 854us/sample - loss: 1.4865 - acc: 0.3636 - val_loss: 1.4495 - val_acc: 0.4821\n",
      "Epoch 4/80\n",
      "132/132 [==============================] - 0s 816us/sample - loss: 1.4425 - acc: 0.3636 - val_loss: 1.4201 - val_acc: 0.3393\n",
      "Epoch 5/80\n",
      "132/132 [==============================] - 0s 748us/sample - loss: 1.3891 - acc: 0.3636 - val_loss: 1.3609 - val_acc: 0.4821\n",
      "Epoch 6/80\n",
      "132/132 [==============================] - 0s 793us/sample - loss: 1.3130 - acc: 0.5227 - val_loss: 1.2809 - val_acc: 0.6071\n",
      "Epoch 7/80\n",
      "132/132 [==============================] - 0s 771us/sample - loss: 1.1943 - acc: 0.5833 - val_loss: 1.1703 - val_acc: 0.5536\n",
      "Epoch 8/80\n",
      "132/132 [==============================] - 0s 771us/sample - loss: 1.0703 - acc: 0.6364 - val_loss: 1.1021 - val_acc: 0.5893\n",
      "Epoch 9/80\n",
      "132/132 [==============================] - 0s 771us/sample - loss: 0.9987 - acc: 0.6970 - val_loss: 1.0195 - val_acc: 0.6071\n",
      "Epoch 10/80\n",
      "132/132 [==============================] - 0s 778us/sample - loss: 0.9649 - acc: 0.6288 - val_loss: 0.9286 - val_acc: 0.6964\n",
      "Epoch 11/80\n",
      "132/132 [==============================] - 0s 771us/sample - loss: 0.8629 - acc: 0.6591 - val_loss: 0.8693 - val_acc: 0.6250\n",
      "Epoch 12/80\n",
      "132/132 [==============================] - 0s 801us/sample - loss: 0.8263 - acc: 0.7121 - val_loss: 0.8090 - val_acc: 0.6964\n",
      "Epoch 13/80\n",
      "132/132 [==============================] - 0s 756us/sample - loss: 0.7046 - acc: 0.7500 - val_loss: 0.7462 - val_acc: 0.7143\n",
      "Epoch 14/80\n",
      "132/132 [==============================] - 0s 771us/sample - loss: 0.6363 - acc: 0.7424 - val_loss: 0.6904 - val_acc: 0.7500\n",
      "Epoch 15/80\n",
      "132/132 [==============================] - 0s 778us/sample - loss: 0.6677 - acc: 0.7500 - val_loss: 0.6760 - val_acc: 0.7321\n",
      "Epoch 16/80\n",
      "132/132 [==============================] - 0s 748us/sample - loss: 0.5246 - acc: 0.8258 - val_loss: 0.6863 - val_acc: 0.7679\n",
      "Epoch 17/80\n",
      "132/132 [==============================] - 0s 756us/sample - loss: 0.5509 - acc: 0.7652 - val_loss: 0.6705 - val_acc: 0.7143\n",
      "Epoch 18/80\n",
      "132/132 [==============================] - 0s 786us/sample - loss: 0.5401 - acc: 0.7879 - val_loss: 0.6460 - val_acc: 0.7321\n",
      "Epoch 19/80\n",
      "132/132 [==============================] - 0s 748us/sample - loss: 0.4320 - acc: 0.8485 - val_loss: 0.6403 - val_acc: 0.7857\n",
      "Epoch 20/80\n",
      "132/132 [==============================] - 0s 793us/sample - loss: 0.4502 - acc: 0.8333 - val_loss: 0.7390 - val_acc: 0.7857\n",
      "Epoch 21/80\n",
      "132/132 [==============================] - 0s 786us/sample - loss: 0.4690 - acc: 0.8258 - val_loss: 0.7046 - val_acc: 0.7500\n",
      "Epoch 22/80\n",
      "132/132 [==============================] - 0s 824us/sample - loss: 0.4511 - acc: 0.8333 - val_loss: 0.6333 - val_acc: 0.7500\n",
      "Epoch 23/80\n",
      "132/132 [==============================] - 0s 793us/sample - loss: 0.4563 - acc: 0.8485 - val_loss: 0.4715 - val_acc: 0.8393\n",
      "Epoch 24/80\n",
      "132/132 [==============================] - 0s 756us/sample - loss: 0.4273 - acc: 0.8485 - val_loss: 0.5810 - val_acc: 0.8214\n",
      "Epoch 25/80\n",
      "132/132 [==============================] - 0s 756us/sample - loss: 0.3891 - acc: 0.8409 - val_loss: 0.6056 - val_acc: 0.7679\n",
      "Epoch 26/80\n",
      "132/132 [==============================] - 0s 801us/sample - loss: 0.3802 - acc: 0.8561 - val_loss: 0.6274 - val_acc: 0.7857\n",
      "Epoch 27/80\n",
      "132/132 [==============================] - 0s 763us/sample - loss: 0.4019 - acc: 0.8712 - val_loss: 0.7535 - val_acc: 0.7857\n",
      "Epoch 28/80\n",
      "132/132 [==============================] - 0s 808us/sample - loss: 0.3940 - acc: 0.8636 - val_loss: 0.5261 - val_acc: 0.8214\n",
      "Epoch 29/80\n",
      "132/132 [==============================] - 0s 763us/sample - loss: 0.5060 - acc: 0.8333 - val_loss: 0.4869 - val_acc: 0.7679\n",
      "Epoch 30/80\n",
      "132/132 [==============================] - 0s 786us/sample - loss: 0.3454 - acc: 0.8788 - val_loss: 0.6126 - val_acc: 0.8214\n",
      "Epoch 31/80\n",
      "132/132 [==============================] - 0s 824us/sample - loss: 0.3268 - acc: 0.8712 - val_loss: 0.6102 - val_acc: 0.7857\n",
      "Epoch 32/80\n",
      "132/132 [==============================] - 0s 756us/sample - loss: 0.2962 - acc: 0.9015 - val_loss: 0.4933 - val_acc: 0.8214\n",
      "Epoch 33/80\n",
      "132/132 [==============================] - 0s 763us/sample - loss: 0.2830 - acc: 0.9091 - val_loss: 0.4484 - val_acc: 0.8036\n",
      "Epoch 34/80\n",
      "132/132 [==============================] - 0s 756us/sample - loss: 0.2878 - acc: 0.9242 - val_loss: 0.5014 - val_acc: 0.8036\n",
      "Epoch 35/80\n",
      "132/132 [==============================] - 0s 816us/sample - loss: 0.2946 - acc: 0.9167 - val_loss: 0.4921 - val_acc: 0.8393\n",
      "Epoch 36/80\n",
      "132/132 [==============================] - 0s 778us/sample - loss: 0.2621 - acc: 0.9091 - val_loss: 0.5856 - val_acc: 0.7500\n",
      "Epoch 37/80\n",
      "132/132 [==============================] - 0s 786us/sample - loss: 0.2761 - acc: 0.9015 - val_loss: 0.5742 - val_acc: 0.7857\n",
      "Epoch 38/80\n",
      "132/132 [==============================] - 0s 771us/sample - loss: 0.2584 - acc: 0.9091 - val_loss: 0.5221 - val_acc: 0.8214\n",
      "Epoch 39/80\n",
      "132/132 [==============================] - 0s 771us/sample - loss: 0.2457 - acc: 0.9091 - val_loss: 0.5446 - val_acc: 0.7500\n",
      "Epoch 40/80\n",
      "132/132 [==============================] - 0s 808us/sample - loss: 0.2741 - acc: 0.9091 - val_loss: 0.4318 - val_acc: 0.7857\n",
      "Epoch 41/80\n",
      "132/132 [==============================] - 0s 778us/sample - loss: 0.2536 - acc: 0.9167 - val_loss: 0.4258 - val_acc: 0.8036\n",
      "Epoch 42/80\n",
      "132/132 [==============================] - 0s 763us/sample - loss: 0.1982 - acc: 0.9394 - val_loss: 0.4449 - val_acc: 0.8393\n",
      "Epoch 43/80\n",
      "132/132 [==============================] - 0s 771us/sample - loss: 0.2581 - acc: 0.9015 - val_loss: 0.3823 - val_acc: 0.8571\n",
      "Epoch 44/80\n",
      "132/132 [==============================] - 0s 778us/sample - loss: 0.2275 - acc: 0.9091 - val_loss: 0.3875 - val_acc: 0.8214\n",
      "Epoch 45/80\n",
      "132/132 [==============================] - 0s 786us/sample - loss: 0.1889 - acc: 0.9394 - val_loss: 0.5212 - val_acc: 0.8393\n",
      "Epoch 46/80\n",
      "132/132 [==============================] - 0s 786us/sample - loss: 0.2467 - acc: 0.9242 - val_loss: 0.7163 - val_acc: 0.7500\n",
      "Epoch 47/80\n",
      "132/132 [==============================] - 0s 824us/sample - loss: 0.2816 - acc: 0.9091 - val_loss: 0.4471 - val_acc: 0.8214\n",
      "Epoch 48/80\n",
      "132/132 [==============================] - 0s 808us/sample - loss: 0.1776 - acc: 0.9470 - val_loss: 0.3464 - val_acc: 0.8393\n",
      "Epoch 49/80\n",
      "132/132 [==============================] - 0s 816us/sample - loss: 0.1829 - acc: 0.9394 - val_loss: 0.2888 - val_acc: 0.8393\n",
      "Epoch 50/80\n",
      "132/132 [==============================] - 0s 808us/sample - loss: 0.1385 - acc: 0.9697 - val_loss: 0.4252 - val_acc: 0.8214\n",
      "Epoch 51/80\n",
      "132/132 [==============================] - 0s 816us/sample - loss: 0.1743 - acc: 0.9394 - val_loss: 0.5106 - val_acc: 0.8214\n",
      "Epoch 52/80\n",
      "132/132 [==============================] - 0s 831us/sample - loss: 0.1559 - acc: 0.9394 - val_loss: 0.4324 - val_acc: 0.8214\n",
      "Epoch 53/80\n",
      "132/132 [==============================] - 0s 808us/sample - loss: 0.1501 - acc: 0.9394 - val_loss: 0.2892 - val_acc: 0.8571\n",
      "Epoch 54/80\n",
      "132/132 [==============================] - 0s 763us/sample - loss: 0.1440 - acc: 0.9470 - val_loss: 0.3507 - val_acc: 0.8750\n",
      "Epoch 55/80\n",
      "132/132 [==============================] - 0s 748us/sample - loss: 0.1283 - acc: 0.9697 - val_loss: 0.5641 - val_acc: 0.8214\n",
      "Epoch 56/80\n",
      "132/132 [==============================] - 0s 740us/sample - loss: 0.0890 - acc: 0.9773 - val_loss: 0.6079 - val_acc: 0.8036\n",
      "Epoch 57/80\n",
      "132/132 [==============================] - 0s 756us/sample - loss: 0.1243 - acc: 0.9621 - val_loss: 0.4287 - val_acc: 0.8393\n",
      "Epoch 58/80\n",
      "132/132 [==============================] - 0s 771us/sample - loss: 0.1176 - acc: 0.9621 - val_loss: 0.3106 - val_acc: 0.8750\n",
      "Epoch 59/80\n",
      "132/132 [==============================] - 0s 831us/sample - loss: 0.0966 - acc: 0.9697 - val_loss: 0.3860 - val_acc: 0.8571\n",
      "Epoch 60/80\n",
      "132/132 [==============================] - 0s 793us/sample - loss: 0.1097 - acc: 0.9621 - val_loss: 0.6600 - val_acc: 0.8036\n",
      "Epoch 61/80\n",
      "132/132 [==============================] - 0s 740us/sample - loss: 0.2908 - acc: 0.9091 - val_loss: 1.1145 - val_acc: 0.7321\n",
      "Epoch 62/80\n",
      "132/132 [==============================] - 0s 763us/sample - loss: 0.4572 - acc: 0.8561 - val_loss: 0.9567 - val_acc: 0.7321\n",
      "Epoch 63/80\n",
      "132/132 [==============================] - 0s 756us/sample - loss: 0.2425 - acc: 0.9318 - val_loss: 0.5580 - val_acc: 0.8393\n",
      "Epoch 64/80\n",
      "132/132 [==============================] - 0s 786us/sample - loss: 0.1833 - acc: 0.9091 - val_loss: 0.4796 - val_acc: 0.7857\n",
      "Epoch 65/80\n",
      "132/132 [==============================] - 0s 831us/sample - loss: 0.2532 - acc: 0.9015 - val_loss: 0.9107 - val_acc: 0.7143\n",
      "Epoch 66/80\n",
      "132/132 [==============================] - 0s 839us/sample - loss: 0.3493 - acc: 0.8788 - val_loss: 0.6549 - val_acc: 0.7321\n",
      "Epoch 67/80\n",
      "132/132 [==============================] - 0s 756us/sample - loss: 0.1658 - acc: 0.9318 - val_loss: 0.3672 - val_acc: 0.8571\n",
      "Epoch 68/80\n",
      "132/132 [==============================] - 0s 771us/sample - loss: 0.1527 - acc: 0.9470 - val_loss: 0.3011 - val_acc: 0.8750\n",
      "Epoch 69/80\n",
      "132/132 [==============================] - 0s 748us/sample - loss: 0.2615 - acc: 0.9015 - val_loss: 0.3036 - val_acc: 0.8571\n",
      "Epoch 70/80\n",
      "132/132 [==============================] - 0s 748us/sample - loss: 0.1539 - acc: 0.9394 - val_loss: 0.4360 - val_acc: 0.8393\n",
      "Epoch 71/80\n",
      "132/132 [==============================] - 0s 733us/sample - loss: 0.1466 - acc: 0.9621 - val_loss: 0.4271 - val_acc: 0.8036\n",
      "Epoch 72/80\n",
      "132/132 [==============================] - 0s 756us/sample - loss: 0.1374 - acc: 0.9621 - val_loss: 0.4908 - val_acc: 0.8214\n",
      "Epoch 73/80\n",
      "132/132 [==============================] - 0s 756us/sample - loss: 0.1220 - acc: 0.9697 - val_loss: 0.5464 - val_acc: 0.8036\n",
      "Epoch 74/80\n",
      "132/132 [==============================] - 0s 756us/sample - loss: 0.1069 - acc: 0.9621 - val_loss: 0.4577 - val_acc: 0.8393\n",
      "Epoch 75/80\n",
      "132/132 [==============================] - 0s 740us/sample - loss: 0.1172 - acc: 0.9470 - val_loss: 0.4031 - val_acc: 0.8571\n",
      "Epoch 76/80\n",
      "132/132 [==============================] - 0s 801us/sample - loss: 0.1142 - acc: 0.9697 - val_loss: 0.5857 - val_acc: 0.8036\n",
      "Epoch 77/80\n",
      "132/132 [==============================] - 0s 824us/sample - loss: 0.0557 - acc: 0.9848 - val_loss: 0.6060 - val_acc: 0.8036\n",
      "Epoch 78/80\n",
      "132/132 [==============================] - 0s 793us/sample - loss: 0.0622 - acc: 0.9848 - val_loss: 0.4388 - val_acc: 0.8036\n",
      "Epoch 79/80\n",
      "132/132 [==============================] - 0s 741us/sample - loss: 0.0748 - acc: 0.9621 - val_loss: 0.3153 - val_acc: 0.8750\n",
      "Epoch 80/80\n",
      "132/132 [==============================] - 0s 869us/sample - loss: 0.0814 - acc: 0.9848 - val_loss: 0.3417 - val_acc: 0.8393\n"
     ]
    }
   ],
   "source": [
    "history = emoji_model.fit(\n",
    "    train_x, \n",
    "    train_y, \n",
    "    epochs = 80,  \n",
    "    shuffle=True,\n",
    "    validation_data=[test_x, test_y]\n",
    ")"
   ]
  },
  {
   "cell_type": "code",
   "execution_count": 17,
   "metadata": {},
   "outputs": [
    {
     "data": {
      "image/png": "[encoded data removed]",
      "text/plain": [
       "<Figure size 432x288 with 1 Axes>"
      ]
     },
     "metadata": {
      "image/png": {
       "height": 248,
       "width": 372
      },
      "needs_background": "light"
     },
     "output_type": "display_data"
    }
   ],
   "source": [
    "utils.plot_history(history, ['loss', 'val_loss'])"
   ]
  },
  {
   "cell_type": "code",
   "execution_count": 18,
   "metadata": {},
   "outputs": [
    {
     "data": {
      "image/png": "[encoded data removed]",
      "text/plain": [
       "<Figure size 432x288 with 1 Axes>"
      ]
     },
     "metadata": {
      "image/png": {
       "height": 248,
       "width": 372
      },
      "needs_background": "light"
     },
     "output_type": "display_data"
    }
   ],
   "source": [
    "utils.plot_history(history, ['acc', 'val_acc'])"
   ]
  },
  {
   "cell_type": "code",
   "execution_count": 19,
   "metadata": {},
   "outputs": [
    {
     "name": "stdout",
     "output_type": "stream",
     "text": [
      "132/132 [==============================] - 0s 166us/sample - loss: 0.0508 - acc: 0.9773\n",
      "56/56 [==============================] - 0s 196us/sample - loss: 0.3417 - acc: 0.8393\n"
     ]
    },
    {
     "data": {
      "text/plain": [
       "[0.34169464877673555, 0.83928573]"
      ]
     },
     "execution_count": 19,
     "metadata": {},
     "output_type": "execute_result"
    }
   ],
   "source": [
    "emoji_model.evaluate(train_x, train_y)\n",
    "emoji_model.evaluate(test_x, test_y)"
   ]
  },
  {
   "cell_type": "markdown",
   "metadata": {},
   "source": [
    "### Sava and Load Models"
   ]
  },
  {
   "cell_type": "code",
   "execution_count": 20,
   "metadata": {},
   "outputs": [],
   "source": [
    "# import\n",
    "import h5py"
   ]
  },
  {
   "cell_type": "markdown",
   "metadata": {},
   "source": [
    "Two parts need to be saved inorder to use the model in prod:\n",
    "\n",
    "1. Neural Network Structure\n",
    "2. Trained Weights (Matrix)\n",
    "\n",
    "We will save them separately. This makes it easy to manage multiple versions of weights and we can always choose which version to go for production."
   ]
  },
  {
   "cell_type": "code",
   "execution_count": 21,
   "metadata": {},
   "outputs": [],
   "source": [
    "import os\n",
    "\n",
    "model_root = 'resources/emoji_model'\n",
    "os.makedirs(model_root, exist_ok=True)"
   ]
  },
  {
   "cell_type": "code",
   "execution_count": 22,
   "metadata": {
    "scrolled": true
   },
   "outputs": [
    {
     "data": {
      "text/plain": [
       "'resources/emoji_model'"
      ]
     },
     "execution_count": 22,
     "metadata": {},
     "output_type": "execute_result"
    }
   ],
   "source": [
    "model_root"
   ]
  },
  {
   "cell_type": "code",
   "execution_count": 23,
   "metadata": {},
   "outputs": [
    {
     "data": {
      "text/plain": [
       "<module 'ntpath' from 'C:\\\\Users\\\\chenj\\\\Anaconda3\\\\lib\\\\ntpath.py'>"
      ]
     },
     "execution_count": 23,
     "metadata": {},
     "output_type": "execute_result"
    }
   ],
   "source": [
    "os.path"
   ]
  },
  {
   "cell_type": "code",
   "execution_count": 24,
   "metadata": {},
   "outputs": [],
   "source": [
    "# Save model structure as json\n",
    "with open(os.path.join(model_root, \"network.json\"), \"w\") as fp:\n",
    "    fp.write(emoji_model.to_json())\n",
    "\n",
    "# Save model weights\n",
    "emoji_model.save_weights(os.path.join(model_root, \"weights.h5\"))"
   ]
  },
  {
   "cell_type": "code",
   "execution_count": 50,
   "metadata": {},
   "outputs": [],
   "source": [
    "''' \n",
    "def download_best_emoji_model():\n",
    "    \"\"\"\n",
    "    Download pretrained emoji model, skip if already downloaded,\n",
    "    return the path to the network json and weights\n",
    "    \"\"\"\n",
    "    #path = _download_data_if_needed(_EMOJI_MODEL)\n",
    "    return os.path.join(model_root, 'network.json'), os.path.join(model_root, 'weights.h5')\n",
    "'''"
   ]
  },
  {
   "cell_type": "markdown",
   "metadata": {},
   "source": [
    "Download and load a pretrained model "
   ]
  },
  {
   "cell_type": "code",
   "execution_count": 27,
   "metadata": {},
   "outputs": [
    {
     "name": "stdout",
     "output_type": "stream",
     "text": [
      "data already available, skip downloading.\n"
     ]
    }
   ],
   "source": [
    "network_path, weights_path = utils.download_best_emoji_model()"
   ]
  },
  {
   "cell_type": "code",
   "execution_count": 28,
   "metadata": {},
   "outputs": [
    {
     "data": {
      "text/plain": [
       "'resources\\\\emoji_model_best\\\\network.json'"
      ]
     },
     "execution_count": 28,
     "metadata": {},
     "output_type": "execute_result"
    }
   ],
   "source": [
    "network_path"
   ]
  },
  {
   "cell_type": "code",
   "execution_count": 29,
   "metadata": {},
   "outputs": [
    {
     "data": {
      "text/plain": [
       "'resources\\\\emoji_model_best\\\\weights.h5'"
      ]
     },
     "execution_count": 29,
     "metadata": {},
     "output_type": "execute_result"
    }
   ],
   "source": [
    "weights_path"
   ]
  },
  {
   "cell_type": "code",
   "execution_count": 30,
   "metadata": {},
   "outputs": [],
   "source": [
    "from tensorflow.keras.models import model_from_json\n",
    "\n",
    "# Load model structure\n",
    "with open(network_path, \"r\") as fp:\n",
    "    emoji_model_best = model_from_json(fp.read())\n",
    "\n",
    "# Load model weights\n",
    "emoji_model_best.load_weights(weights_path)"
   ]
  },
  {
   "cell_type": "code",
   "execution_count": 31,
   "metadata": {},
   "outputs": [],
   "source": [
    "emoji_model_best.compile(\n",
    "    loss='binary_crossentropy', \n",
    "    optimizer='adam', \n",
    "    metrics=['accuracy'])"
   ]
  },
  {
   "cell_type": "code",
   "execution_count": 62,
   "metadata": {
    "scrolled": true
   },
   "outputs": [
    {
     "name": "stdout",
     "output_type": "stream",
     "text": [
      "132/132 [==============================] - 0s 2ms/sample - loss: 0.0065 - acc: 1.0000\n",
      "56/56 [==============================] - 0s 214us/sample - loss: 0.1615 - acc: 0.9500\n"
     ]
    },
    {
     "data": {
      "text/plain": [
       "[0.16151069636855805, 0.95]"
      ]
     },
     "execution_count": 62,
     "metadata": {},
     "output_type": "execute_result"
    }
   ],
   "source": [
    "emoji_model_best.evaluate(train_x, train_y)\n",
    "emoji_model_best.evaluate(test_x, test_y)"
   ]
  },
  {
   "cell_type": "code",
   "execution_count": 32,
   "metadata": {},
   "outputs": [
    {
     "name": "stdout",
     "output_type": "stream",
     "text": [
      "132/132 [==============================] - 0s 1ms/sample - loss: 1.6881e-04 - acc: 1.0000\n",
      "56/56 [==============================] - 0s 178us/sample - loss: 0.2815 - acc: 0.9286\n"
     ]
    },
    {
     "data": {
      "text/plain": [
       "[0.2815101998192923, 0.9285714]"
      ]
     },
     "execution_count": 32,
     "metadata": {},
     "output_type": "execute_result"
    }
   ],
   "source": [
    "emoji_model_best.evaluate(train_x, train_y)\n",
    "emoji_model_best.evaluate(test_x, test_y)"
   ]
  },
  {
   "cell_type": "code",
   "execution_count": 33,
   "metadata": {},
   "outputs": [],
   "source": [
    "f = h5py.File('resources/emoji_model/weights.h5', 'r')"
   ]
  },
  {
   "cell_type": "code",
   "execution_count": 34,
   "metadata": {},
   "outputs": [
    {
     "data": {
      "text/plain": [
       "['dense', 'dropout', 'dropout_1', 'embedding', 'input_1', 'lstm', 'lstm_1']"
      ]
     },
     "execution_count": 34,
     "metadata": {},
     "output_type": "execute_result"
    }
   ],
   "source": [
    "list(f.keys())"
   ]
  },
  {
   "cell_type": "code",
   "execution_count": 35,
   "metadata": {},
   "outputs": [
    {
     "name": "stdout",
     "output_type": "stream",
     "text": [
      "dense\n",
      "dense/dense\n",
      "dense/dense/bias:0\n",
      "dense/dense/kernel:0\n",
      "dropout\n",
      "dropout_1\n",
      "embedding\n",
      "embedding/embedding\n",
      "embedding/embedding/embeddings:0\n",
      "input_1\n",
      "lstm\n",
      "lstm/lstm\n",
      "lstm/lstm/bias:0\n",
      "lstm/lstm/kernel:0\n",
      "lstm/lstm/recurrent_kernel:0\n",
      "lstm_1\n",
      "lstm_1/lstm_1\n",
      "lstm_1/lstm_1/bias:0\n",
      "lstm_1/lstm_1/kernel:0\n",
      "lstm_1/lstm_1/recurrent_kernel:0\n"
     ]
    }
   ],
   "source": [
    "def printname(name):\n",
    "    print (name)\n",
    "f.visit(printname)"
   ]
  },
  {
   "cell_type": "code",
   "execution_count": 36,
   "metadata": {},
   "outputs": [],
   "source": [
    "def predict_emoji(text):\n",
    "    x = utils.sentences_to_indices(\n",
    "        np.array([text]), \n",
    "        word_to_index, \n",
    "        maxlen)\n",
    "    \n",
    "    probs = emoji_model_best.predict(x)\n",
    "    pred = np.argmax(probs)\n",
    "    \n",
    "    return utils.label_to_emoji(pred)"
   ]
  },
  {
   "cell_type": "code",
   "execution_count": 49,
   "metadata": {},
   "outputs": [
    {
     "name": "stdout",
     "output_type": "stream",
     "text": [
      "i am not feeling great 😞\n"
     ]
    }
   ],
   "source": [
    "test = 'i am not feeling great'\n",
    "print(test, predict_emoji(test))"
   ]
  }
 ],
 "metadata": {
  "kernelspec": {
   "display_name": "Python 3",
   "language": "python",
   "name": "python3"
  },
  "language_info": {
   "codemirror_mode": {
    "name": "ipython",
    "version": 3
   },
   "file_extension": ".py",
   "mimetype": "text/x-python",
   "name": "python",
   "nbconvert_exporter": "python",
   "pygments_lexer": "ipython3",
   "version": "3.7.4"
  }
 },
 "nbformat": 4,
 "nbformat_minor": 2
}
