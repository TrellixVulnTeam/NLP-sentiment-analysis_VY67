{
 "cells": [
  {
   "cell_type": "code",
   "execution_count": 1,
   "metadata": {},
   "outputs": [],
   "source": [
    "from pyspark.sql import SparkSession\n",
    "import pyspark.sql.functions as F\n",
    "from pyspark.sql.types import *\n",
    "import pandas as pd"
   ]
  },
  {
   "cell_type": "code",
   "execution_count": 2,
   "metadata": {},
   "outputs": [
    {
     "data": {
      "text/html": [
       "\n",
       "            <div>\n",
       "                <p><b>SparkSession - hive</b></p>\n",
       "                \n",
       "        <div>\n",
       "            <p><b>SparkContext</b></p>\n",
       "\n",
       "            <p><a href=\"http://cluster-c2c5-m.c.deep-labs-ds-sandbox.internal:4040\">Spark UI</a></p>\n",
       "\n",
       "            <dl>\n",
       "              <dt>Version</dt>\n",
       "                <dd><code>v2.3.4</code></dd>\n",
       "              <dt>Master</dt>\n",
       "                <dd><code>yarn</code></dd>\n",
       "              <dt>AppName</dt>\n",
       "                <dd><code>PySparkShell</code></dd>\n",
       "            </dl>\n",
       "        </div>\n",
       "        \n",
       "            </div>\n",
       "        "
      ],
      "text/plain": [
       "<pyspark.sql.session.SparkSession at 0x7f612a29c810>"
      ]
     },
     "execution_count": 2,
     "metadata": {},
     "output_type": "execute_result"
    }
   ],
   "source": [
    "spark = SparkSession.builder \\\n",
    "    .master(\"local\") \\\n",
    "    .appName(\"GD data prep\") \\\n",
    "    .getOrCreate()\n",
    "spark"
   ]
  },
  {
   "cell_type": "code",
   "execution_count": 3,
   "metadata": {},
   "outputs": [],
   "source": [
    "df = spark.read.parquet('gs://greendot-events/je/transdtl_with_pt_for_bq_training')"
   ]
  },
  {
   "cell_type": "code",
   "execution_count": 4,
   "metadata": {},
   "outputs": [
    {
     "name": "stdout",
     "output_type": "stream",
     "text": [
      "root\n",
      " |-- postedtransactionv2key: string (nullable = true)\n",
      " |-- transdtlkey: long (nullable = true)\n",
      " |-- customerkey: long (nullable = true)\n",
      " |-- cardkey: long (nullable = true)\n",
      " |-- trancode: string (nullable = true)\n",
      " |-- postdate: timestamp (nullable = true)\n",
      " |-- transdate: timestamp (nullable = true)\n",
      " |-- transamt: decimal(19,4) (nullable = true)\n",
      " |-- merch_name: string (nullable = true)\n",
      " |-- merch_trunc: string (nullable = true)\n",
      " |-- mcc: string (nullable = true)\n",
      " |-- mcc_description: string (nullable = true)\n",
      " |-- mcc_category: string (nullable = true)\n",
      " |-- merch_city: string (nullable = true)\n",
      " |-- merch_state: string (nullable = true)\n",
      " |-- merch_zip: string (nullable = true)\n",
      " |-- product_key: integer (nullable = true)\n",
      " |-- online_retail_product: string (nullable = true)\n",
      " |-- bin: string (nullable = true)\n",
      " |-- product_code: string (nullable = true)\n",
      " |-- product_name: string (nullable = true)\n",
      " |-- product_desc: string (nullable = true)\n",
      " |-- card_type_desc: string (nullable = true)\n",
      " |-- partner_desc: string (nullable = true)\n",
      " |-- association_name: string (nullable = true)\n",
      " |-- portfolio_name: string (nullable = true)\n",
      " |-- product_lifecycle_desc: string (nullable = true)\n",
      " |-- brand_name: string (nullable = true)\n",
      " |-- activation_fee: decimal(10,4) (nullable = true)\n",
      " |-- reload_limit: decimal(10,4) (nullable = true)\n",
      " |-- ispersonalized: boolean (nullable = true)\n",
      " |-- hascrv: boolean (nullable = true)\n",
      " |-- isactive: boolean (nullable = true)\n",
      " |-- is_personalized_ind: string (nullable = true)\n",
      " |-- has_crv_ind: string (nullable = true)\n",
      " |-- cardactivationdate: timestamp (nullable = true)\n",
      " |-- tsysloadamount: decimal(19,4) (nullable = true)\n",
      " |-- acctbalance: decimal(19,4) (nullable = true)\n",
      " |-- acctbalanceasof: timestamp (nullable = true)\n",
      " |-- currbalance: decimal(19,4) (nullable = true)\n",
      " |-- currbalanceasof: timestamp (nullable = true)\n",
      " |-- firstused: timestamp (nullable = true)\n",
      " |-- lastpurchaseactivity: timestamp (nullable = true)\n",
      " |-- cust_statuschangedate: timestamp (nullable = true)\n",
      " |-- customer_createdate: timestamp (nullable = true)\n",
      " |-- account_key: integer (nullable = true)\n",
      " |-- account_activation_date: timestamp (nullable = true)\n",
      " |-- initial_load_type: string (nullable = true)\n",
      " |-- last_activity_desc: string (nullable = true)\n",
      " |-- initial_load_date: timestamp (nullable = true)\n",
      " |-- first_reload_date: timestamp (nullable = true)\n",
      " |-- first_direct_deposit_date: timestamp (nullable = true)\n",
      " |-- last_activity_date: timestamp (nullable = true)\n",
      " |-- dob_year: short (nullable = true)\n",
      " |-- ssntoken: string (nullable = true)\n",
      " |-- residentialcity: string (nullable = true)\n",
      " |-- residentialstate: string (nullable = true)\n",
      " |-- residentialzipcode: string (nullable = true)\n",
      " |-- customer_city: string (nullable = true)\n",
      " |-- customer_state: string (nullable = true)\n",
      " |-- customer_zipcode: string (nullable = true)\n",
      " |-- email_domain: string (nullable = true)\n",
      " |-- dispute: string (nullable = true)\n",
      " |-- child_casenumber: string (nullable = true)\n",
      " |-- parent_casenumber: string (nullable = true)\n",
      " |-- dispute_created_date: timestamp (nullable = true)\n",
      " |-- dispute_closed_date: timestamp (nullable = true)\n",
      " |-- closed_open_status: string (nullable = true)\n",
      " |-- dispute_amount: decimal(19,4) (nullable = true)\n",
      " |-- dollar_bucket: string (nullable = true)\n",
      " |-- dispute_reason: string (nullable = true)\n",
      " |-- dispute_resolution: string (nullable = true)\n",
      " |-- dispute_declined_reason: string (nullable = true)\n",
      " |-- channel_disposition__c: string (nullable = true)\n",
      " |-- number_of_dispute_transactions_filed_before: integer (nullable = true)\n",
      " |-- dpanid: string (nullable = true)\n",
      " |-- iscardpresent: boolean (nullable = true)\n",
      " |-- isauthmatched: boolean (nullable = true)\n",
      " |-- iscredit: boolean (nullable = true)\n",
      " |-- messagehashid: string (nullable = true)\n",
      " |-- authorizationmessagehashid: string (nullable = true)\n",
      " |-- posentrydata: string (nullable = true)\n",
      " |-- pt_posteddate: timestamp (nullable = true)\n",
      " |-- responsecode: string (nullable = true)\n",
      " |-- post_month: timestamp (nullable = true)\n",
      "\n"
     ]
    }
   ],
   "source": [
    "df.printSchema()"
   ]
  },
  {
   "cell_type": "code",
   "execution_count": 5,
   "metadata": {},
   "outputs": [],
   "source": [
    "# Data Shape\n",
    "\n",
    "#print((df.count(),len(df.columns)))"
   ]
  },
  {
   "cell_type": "code",
   "execution_count": 6,
   "metadata": {},
   "outputs": [
    {
     "name": "stdout",
     "output_type": "stream",
     "text": [
      "+---------+---------+\n",
      "|ssnlength|    count|\n",
      "+---------+---------+\n",
      "|     null|  2397472|\n",
      "|       11|167443158|\n",
      "+---------+---------+\n",
      "\n"
     ]
    }
   ],
   "source": [
    "# Length of SSN Tokens\n",
    "\n",
    "df.withColumn('ssnlength',F.length('ssntoken')).groupby('ssnlength').count().show()"
   ]
  },
  {
   "cell_type": "markdown",
   "metadata": {},
   "source": [
    "The SSN tokens are mostly 11 characters in length, the remaining seem to be null."
   ]
  },
  {
   "cell_type": "code",
   "execution_count": 7,
   "metadata": {},
   "outputs": [],
   "source": [
    "from pyspark.sql.functions import col, length\n",
    "\n",
    "# Filter the Data for SSN tokens length 11\n",
    "df_11= df.where(length(col('ssntoken')) == 11)\n",
    "\n",
    "#Check Shape\n",
    "#print((df_11.count(),len(df_11.columns)))"
   ]
  },
  {
   "cell_type": "code",
   "execution_count": 8,
   "metadata": {},
   "outputs": [
    {
     "data": {
      "text/plain": [
       "Row(ssntoken=u'FNSSX0DAX3I', count=41084)"
      ]
     },
     "execution_count": 8,
     "metadata": {},
     "output_type": "execute_result"
    }
   ],
   "source": [
    "#Most occuring SSN Token\n",
    "\n",
    "df_11.groupby('ssntoken').count().orderBy(\"count\",ascending=False).first()"
   ]
  },
  {
   "cell_type": "code",
   "execution_count": 9,
   "metadata": {},
   "outputs": [
    {
     "data": {
      "text/plain": [
       "[Row(ssntoken=u'FNSSX0DAX3I', cnt=41084),\n",
       " Row(ssntoken=u'5PZROF234LI', cnt=14541),\n",
       " Row(ssntoken=u'P7V9RXSUAOI', cnt=8340),\n",
       " Row(ssntoken=u'BSYMYINTLII', cnt=8151),\n",
       " Row(ssntoken=u'V16JFRWZ0WI', cnt=8129),\n",
       " Row(ssntoken=u'SHSWGI6S7AI', cnt=7894),\n",
       " Row(ssntoken=u'5OCX6C70SAI', cnt=7695),\n",
       " Row(ssntoken=u'BYA6O06Z8VI', cnt=7646),\n",
       " Row(ssntoken=u'9ELQGOF901I', cnt=7142),\n",
       " Row(ssntoken=u'4UI3OGEKBQI', cnt=6680)]"
      ]
     },
     "execution_count": 9,
     "metadata": {},
     "output_type": "execute_result"
    }
   ],
   "source": [
    "#Top 10 most occuring SSN tokens\n",
    "\n",
    "df_11.registerTempTable('df_11')\n",
    "sqlContext.sql(\"SELECT ssntoken, COUNT(*) AS cnt FROM df_11 GROUP BY ssntoken ORDER BY cnt DESC LIMIT 10\").collect()"
   ]
  },
  {
   "cell_type": "markdown",
   "metadata": {},
   "source": [
    "These are the top 10 most occuring SSN Tokens. While there doesn't appear to be anything odd going on with the token values, it is worth nothing the most occuring SSN token has 41,000 different rows, which is much larger than any other. Might be worth looking into this specific customer to see what's going on."
   ]
  },
  {
   "cell_type": "code",
   "execution_count": 10,
   "metadata": {},
   "outputs": [
    {
     "name": "stdout",
     "output_type": "stream",
     "text": [
      "Excluded 21 negative dispute amounts.\n"
     ]
    }
   ],
   "source": [
    "# Exclude negative Dispute amounts\n",
    "\n",
    "df_11_a = df_11.where((df.dispute_amount >=0) | (df.dispute_amount.isNull()))\n",
    "print('Excluded {} negative dispute amounts.'.format(df_11.where(df.dispute_amount<0).count()))"
   ]
  },
  {
   "cell_type": "code",
   "execution_count": 11,
   "metadata": {},
   "outputs": [
    {
     "data": {
      "text/plain": [
       "3471"
      ]
     },
     "execution_count": 11,
     "metadata": {},
     "output_type": "execute_result"
    }
   ],
   "source": [
    "#Read in product key data\n",
    "\n",
    "df_prod = spark.read.parquet('gs://greendot-events/je/product_key_segment')\n",
    "df_prod.count()"
   ]
  },
  {
   "cell_type": "code",
   "execution_count": 12,
   "metadata": {},
   "outputs": [],
   "source": [
    "#Determine when the transaction was posted in relation to customer create date\n",
    "from pyspark.sql.functions import unix_timestamp\n",
    "df_11_b = df_11_a.withColumn('date_from_creation', (F.unix_timestamp('postdate') - F.unix_timestamp('customer_createdate')))\n",
    "\n"
   ]
  },
  {
   "cell_type": "code",
   "execution_count": 13,
   "metadata": {},
   "outputs": [
    {
     "data": {
      "text/plain": [
       "[Row(date_from_creation=17376120, cnt=4532),\n",
       " Row(date_from_creation=17116920, cnt=2073),\n",
       " Row(date_from_creation=17462520, cnt=1855),\n",
       " Row(date_from_creation=16983060, cnt=1527),\n",
       " Row(date_from_creation=17548920, cnt=1422),\n",
       " Row(date_from_creation=19795320, cnt=1375),\n",
       " Row(date_from_creation=17226120, cnt=1172),\n",
       " Row(date_from_creation=17203320, cnt=1110),\n",
       " Row(date_from_creation=17658240, cnt=1087),\n",
       " Row(date_from_creation=15759780, cnt=943)]"
      ]
     },
     "execution_count": 13,
     "metadata": {},
     "output_type": "execute_result"
    }
   ],
   "source": [
    "df_11_b.registerTempTable('df_11_b')\n",
    "sqlContext.sql(\"SELECT date_from_creation, COUNT(*) AS cnt FROM df_11_b WHERE date_from_creation >(180*86400) GROUP BY date_from_creation ORDER BY cnt DESC LIMIT 10\").collect()\n"
   ]
  },
  {
   "cell_type": "code",
   "execution_count": 14,
   "metadata": {},
   "outputs": [],
   "source": [
    "df_11_c = df_11_b.where((df_11_b.date_from_creation <=180*86400))"
   ]
  },
  {
   "cell_type": "code",
   "execution_count": 15,
   "metadata": {},
   "outputs": [
    {
     "data": {
      "text/plain": [
       "'Removed 16682519 values from the dataset due to the date_from_creation being longer than 180 days'"
      ]
     },
     "execution_count": 15,
     "metadata": {},
     "output_type": "execute_result"
    }
   ],
   "source": [
    "'Removed {} values from the dataset due to the date_from_creation being longer than 180 days'.format(df_11_b.count() - df_11_c.count())"
   ]
  },
  {
   "cell_type": "code",
   "execution_count": 16,
   "metadata": {},
   "outputs": [],
   "source": [
    "#Create Observation Period column (obs_period) and flag (obs_90) that equals 1 \n",
    "#if the Observation period is greater than 90 days, otherwise 0\n",
    "#df_11_d = df_11_c.withColumn('obs_period', (unix_timestamp('postdate') - unix_timestamp('customer_createdate')))\n",
    "#df_11_d = df_11_d.where((df_11_d.obs_period <=90*86400))\n",
    "df_11_e = df_11_c.withColumn('obs_90', \\\n",
    "                            F.when(df_11_c.date_from_creation >=90*86400,1).otherwise(0))\n",
    "\n"
   ]
  },
  {
   "cell_type": "code",
   "execution_count": 17,
   "metadata": {},
   "outputs": [
    {
     "data": {
      "text/plain": [
       "[Row(obs_90=0, cnt=99018382), Row(obs_90=1, cnt=51742236)]"
      ]
     },
     "execution_count": 17,
     "metadata": {},
     "output_type": "execute_result"
    }
   ],
   "source": [
    "df_11_e.registerTempTable('df_11_e')\n",
    "sqlContext.sql(\"SELECT obs_90, COUNT(*) AS cnt FROM df_11_e GROUP BY obs_90 ORDER BY cnt DESC LIMIT 10\").collect()\n"
   ]
  },
  {
   "cell_type": "code",
   "execution_count": 18,
   "metadata": {},
   "outputs": [
    {
     "data": {
      "text/plain": [
       "[Row(target=1, unique_tokens=3228, total_tokens=14763),\n",
       " Row(target=0, unique_tokens=1270489, total_tokens=150745855)]"
      ]
     },
     "execution_count": 18,
     "metadata": {},
     "output_type": "execute_result"
    }
   ],
   "source": [
    "#Create Target Variable based on following criteria:\n",
    "# dispute_amount >= 100, 91<= date_from_creation >= 180\n",
    "# date_from_creation is how long the transaction has been posted relative to the customer's creation date\n",
    "df_11_f = df_11_e.withColumn('target', \\\n",
    "                             F.when((df_11_e.date_from_creation>=91*86400)\\\n",
    "                                    &(df_11_e.date_from_creation<=180*86400)\\\n",
    "                                    &(df_11_e.dispute_amount>=100),1)\\\n",
    "            .otherwise(0))\n",
    "\n",
    "df_11_f.registerTempTable('df_11_f')\n",
    "sqlContext.sql(\"SELECT target, COUNT(DISTINCT ssntoken) AS unique_tokens,COUNT(*) AS total_tokens FROM df_11_f GROUP BY target ORDER BY target DESC LIMIT 10\").collect()"
   ]
  },
  {
   "cell_type": "code",
   "execution_count": 19,
   "metadata": {},
   "outputs": [
    {
     "name": "stdout",
     "output_type": "stream",
     "text": [
      "+-------+------------------+\n",
      "|summary|          transamt|\n",
      "+-------+------------------+\n",
      "|  count|          99018382|\n",
      "|   mean|      101.47246789|\n",
      "| stddev|422.87141474508417|\n",
      "|    min|            0.0000|\n",
      "|    max|       205000.0000|\n",
      "+-------+------------------+\n",
      "\n"
     ]
    }
   ],
   "source": [
    "#Summary statistics for the transaction amount \n",
    "#for customers that were posted 0-90 days after customer creation\n",
    "df_11_f.filter((df_11_f.date_from_creation<90*86400)).select('transamt').describe().show()\n"
   ]
  },
  {
   "cell_type": "code",
   "execution_count": 20,
   "metadata": {},
   "outputs": [
    {
     "data": {
      "text/plain": [
       "[Row(trancode=u'1001', cnt=56586256),\n",
       " Row(trancode=u'7301', cnt=35942566),\n",
       " Row(trancode=u'7017', cnt=9212716),\n",
       " Row(trancode=u'0886', cnt=7563363),\n",
       " Row(trancode=u'7302', cnt=7516222),\n",
       " Row(trancode=u'7008', cnt=5959386),\n",
       " Row(trancode=u'3001', cnt=5203399),\n",
       " Row(trancode=u'7027', cnt=4466490),\n",
       " Row(trancode=u'7166', cnt=4109278),\n",
       " Row(trancode=u'1018', cnt=3452160)]"
      ]
     },
     "execution_count": 20,
     "metadata": {},
     "output_type": "execute_result"
    }
   ],
   "source": [
    "#Most frequent transaction codes\n",
    "#Note this is not filtered by date_from_creation\n",
    "df_11_f.registerTempTable('df_11_f')\n",
    "#sqlContext.sql(\"SELECT trancode, COUNT(*) AS cnt FROM df_11_f GROUP BY trancode ORDER BY cnt DESC LIMIT 10\").collect()"
   ]
  },
  {
   "cell_type": "code",
   "execution_count": 21,
   "metadata": {},
   "outputs": [
    {
     "name": "stdout",
     "output_type": "stream",
     "text": [
      "+-----------+-----+\n",
      "|   ssntoken|count|\n",
      "+-----------+-----+\n",
      "|FNSSX0DAX3I| 4536|\n",
      "|DH2YHI13FLI|  626|\n",
      "|E20FVDKRZXI|  516|\n",
      "|34HRSC5R37I|  191|\n",
      "|8N7T3G0S5UI|  141|\n",
      "|IWXMEBPIM6I|  141|\n",
      "|3JM52MS2QVI|  129|\n",
      "|D4LHR0BX45I|  105|\n",
      "|JXNAG6QDLPI|   89|\n",
      "|Q7SDZUI5ZCI|   86|\n",
      "|XU6KKNFYE5I|   79|\n",
      "|YVATVDWAEQI|   78|\n",
      "|POW1HH4ATGI|   68|\n",
      "|N88E4GJR6YI|   67|\n",
      "|BYMMKKJGNLI|   64|\n",
      "|IGCD60HR8YI|   63|\n",
      "|X8XHDJIYFLI|   56|\n",
      "|TZJ5VUFAJWI|   50|\n",
      "|P8F6HMT6EGI|   49|\n",
      "|RF1K0O6UT0I|   49|\n",
      "+-----------+-----+\n",
      "only showing top 20 rows\n",
      "\n"
     ]
    }
   ],
   "source": [
    "# See if customers are using different cardkeys\n",
    "from pyspark.sql.functions import countDistinct\n",
    "\n",
    "df_11_f.groupBy('ssntoken').agg(countDistinct(col(\"cardkey\")).alias(\"count\")).orderBy(\"count\",ascending=False).show()\n",
    "\n",
    "\n",
    "\n"
   ]
  },
  {
   "cell_type": "code",
   "execution_count": 22,
   "metadata": {},
   "outputs": [
    {
     "name": "stdout",
     "output_type": "stream",
     "text": [
      "+---------+---------+\n",
      "|targetcnt|    count|\n",
      "+---------+---------+\n",
      "|        1|150760618|\n",
      "+---------+---------+\n",
      "\n"
     ]
    }
   ],
   "source": [
    "#df_11_f.withColumn('targetcnt',F.length('target')).groupby('targetcnt').count().show()"
   ]
  },
  {
   "cell_type": "code",
   "execution_count": 23,
   "metadata": {},
   "outputs": [
    {
     "data": {
      "text/plain": [
       "[Row(obs_90=1, cnt=51742236), Row(obs_90=0, cnt=99018382)]"
      ]
     },
     "execution_count": 23,
     "metadata": {},
     "output_type": "execute_result"
    }
   ],
   "source": [
    "#sqlContext.sql(\"SELECT obs_90, COUNT(*) AS cnt FROM df_11_f GROUP BY obs_90 ORDER BY cnt ASC LIMIT 10\").collect()"
   ]
  },
  {
   "cell_type": "code",
   "execution_count": 24,
   "metadata": {},
   "outputs": [],
   "source": [
    "df_prod = spark.read.parquet('gs://greendot-events/je/product_key_segment')\n",
    "\n",
    "prod = df_prod.alias('prod') \n",
    "data = df_11_f.alias('data')\n",
    "\n",
    "left_join = prod.join(data,\"product_key\", how='left')\n"
   ]
  },
  {
   "cell_type": "code",
   "execution_count": 25,
   "metadata": {},
   "outputs": [
    {
     "data": {
      "text/plain": [
       "[Row(product_segment=u'GoBank Online'),\n",
       " Row(product_segment=u'FSC Retail'),\n",
       " Row(product_segment=u'Green Dot Retail'),\n",
       " Row(product_segment=u'GoBank @ Walmart'),\n",
       " Row(product_segment=u'GDN Retail'),\n",
       " Row(product_segment=u'Walmart Retail'),\n",
       " Row(product_segment=u'Walmart Gift'),\n",
       " Row(product_segment=u'- Retail'),\n",
       " Row(product_segment=u'Green Dot @ Walmart'),\n",
       " Row(product_segment=u'Walmart Online'),\n",
       " Row(product_segment=u'Green Dot Online'),\n",
       " Row(product_segment=u'Green Dot Partner'),\n",
       " Row(product_segment=u'GoBank Retail'),\n",
       " Row(product_segment=u'GoBank Partner')]"
      ]
     },
     "execution_count": 25,
     "metadata": {},
     "output_type": "execute_result"
    }
   ],
   "source": [
    "left_join.select('product_segment').distinct().collect()\n",
    "\n",
    "\n"
   ]
  },
  {
   "cell_type": "code",
   "execution_count": 26,
   "metadata": {},
   "outputs": [
    {
     "data": {
      "text/plain": [
       "[Row(target=1, unique_tokens=544, total_tokens=2116),\n",
       " Row(target=0, unique_tokens=14660, total_tokens=139825)]"
      ]
     },
     "execution_count": 26,
     "metadata": {},
     "output_type": "execute_result"
    }
   ],
   "source": [
    "sqlContext.sql(\"SELECT target, COUNT(DISTINCT ssntoken) AS unique_tokens,COUNT(*) AS total_tokens FROM df_11_f WHERE dispute_resolution='WriteOff' GROUP BY target ORDER BY target DESC LIMIT 10\").collect()"
   ]
  },
  {
   "cell_type": "code",
   "execution_count": 27,
   "metadata": {},
   "outputs": [
    {
     "name": "stdout",
     "output_type": "stream",
     "text": [
      "root\n",
      " |-- product_key: integer (nullable = true)\n",
      " |-- product_segment: string (nullable = true)\n",
      " |-- postedtransactionv2key: string (nullable = true)\n",
      " |-- transdtlkey: long (nullable = true)\n",
      " |-- customerkey: long (nullable = true)\n",
      " |-- cardkey: long (nullable = true)\n",
      " |-- trancode: string (nullable = true)\n",
      " |-- postdate: timestamp (nullable = true)\n",
      " |-- transdate: timestamp (nullable = true)\n",
      " |-- transamt: decimal(19,4) (nullable = true)\n",
      " |-- merch_name: string (nullable = true)\n",
      " |-- merch_trunc: string (nullable = true)\n",
      " |-- mcc: string (nullable = true)\n",
      " |-- mcc_description: string (nullable = true)\n",
      " |-- mcc_category: string (nullable = true)\n",
      " |-- merch_city: string (nullable = true)\n",
      " |-- merch_state: string (nullable = true)\n",
      " |-- merch_zip: string (nullable = true)\n",
      " |-- online_retail_product: string (nullable = true)\n",
      " |-- bin: string (nullable = true)\n",
      " |-- product_code: string (nullable = true)\n",
      " |-- product_name: string (nullable = true)\n",
      " |-- product_desc: string (nullable = true)\n",
      " |-- card_type_desc: string (nullable = true)\n",
      " |-- partner_desc: string (nullable = true)\n",
      " |-- association_name: string (nullable = true)\n",
      " |-- portfolio_name: string (nullable = true)\n",
      " |-- product_lifecycle_desc: string (nullable = true)\n",
      " |-- brand_name: string (nullable = true)\n",
      " |-- activation_fee: decimal(10,4) (nullable = true)\n",
      " |-- reload_limit: decimal(10,4) (nullable = true)\n",
      " |-- ispersonalized: boolean (nullable = true)\n",
      " |-- hascrv: boolean (nullable = true)\n",
      " |-- isactive: boolean (nullable = true)\n",
      " |-- is_personalized_ind: string (nullable = true)\n",
      " |-- has_crv_ind: string (nullable = true)\n",
      " |-- cardactivationdate: timestamp (nullable = true)\n",
      " |-- tsysloadamount: decimal(19,4) (nullable = true)\n",
      " |-- acctbalance: decimal(19,4) (nullable = true)\n",
      " |-- acctbalanceasof: timestamp (nullable = true)\n",
      " |-- currbalance: decimal(19,4) (nullable = true)\n",
      " |-- currbalanceasof: timestamp (nullable = true)\n",
      " |-- firstused: timestamp (nullable = true)\n",
      " |-- lastpurchaseactivity: timestamp (nullable = true)\n",
      " |-- cust_statuschangedate: timestamp (nullable = true)\n",
      " |-- customer_createdate: timestamp (nullable = true)\n",
      " |-- account_key: integer (nullable = true)\n",
      " |-- account_activation_date: timestamp (nullable = true)\n",
      " |-- initial_load_type: string (nullable = true)\n",
      " |-- last_activity_desc: string (nullable = true)\n",
      " |-- initial_load_date: timestamp (nullable = true)\n",
      " |-- first_reload_date: timestamp (nullable = true)\n",
      " |-- first_direct_deposit_date: timestamp (nullable = true)\n",
      " |-- last_activity_date: timestamp (nullable = true)\n",
      " |-- dob_year: short (nullable = true)\n",
      " |-- ssntoken: string (nullable = true)\n",
      " |-- residentialcity: string (nullable = true)\n",
      " |-- residentialstate: string (nullable = true)\n",
      " |-- residentialzipcode: string (nullable = true)\n",
      " |-- customer_city: string (nullable = true)\n",
      " |-- customer_state: string (nullable = true)\n",
      " |-- customer_zipcode: string (nullable = true)\n",
      " |-- email_domain: string (nullable = true)\n",
      " |-- dispute: string (nullable = true)\n",
      " |-- child_casenumber: string (nullable = true)\n",
      " |-- parent_casenumber: string (nullable = true)\n",
      " |-- dispute_created_date: timestamp (nullable = true)\n",
      " |-- dispute_closed_date: timestamp (nullable = true)\n",
      " |-- closed_open_status: string (nullable = true)\n",
      " |-- dispute_amount: decimal(19,4) (nullable = true)\n",
      " |-- dollar_bucket: string (nullable = true)\n",
      " |-- dispute_reason: string (nullable = true)\n",
      " |-- dispute_resolution: string (nullable = true)\n",
      " |-- dispute_declined_reason: string (nullable = true)\n",
      " |-- channel_disposition__c: string (nullable = true)\n",
      " |-- number_of_dispute_transactions_filed_before: integer (nullable = true)\n",
      " |-- dpanid: string (nullable = true)\n",
      " |-- iscardpresent: boolean (nullable = true)\n",
      " |-- isauthmatched: boolean (nullable = true)\n",
      " |-- iscredit: boolean (nullable = true)\n",
      " |-- messagehashid: string (nullable = true)\n",
      " |-- authorizationmessagehashid: string (nullable = true)\n",
      " |-- posentrydata: string (nullable = true)\n",
      " |-- pt_posteddate: timestamp (nullable = true)\n",
      " |-- responsecode: string (nullable = true)\n",
      " |-- post_month: timestamp (nullable = true)\n",
      " |-- date_from_creation: long (nullable = true)\n",
      " |-- obs_90: integer (nullable = true)\n",
      " |-- target: integer (nullable = true)\n",
      "\n"
     ]
    }
   ],
   "source": [
    "df_new = left_join\n",
    "df_new.printSchema()\n"
   ]
  },
  {
   "cell_type": "code",
   "execution_count": 28,
   "metadata": {},
   "outputs": [],
   "source": [
    "\n",
    "df_trancode = df_new.groupBy('ssntoken').agg(countDistinct(col(\"trancode\")).alias(\"unique_trancodes\")\\\n",
    "                                             ,countDistinct(col(\"cardkey\")).alias(\"unique_cardkeys\")\\\n",
    "                                            ,).orderBy(\"unique_trancodes\",ascending=False)\n"
   ]
  },
  {
   "cell_type": "code",
   "execution_count": 29,
   "metadata": {},
   "outputs": [],
   "source": [
    "df_new_1 = df_new.join(df_trancode,\"ssntoken\", how='left')\n"
   ]
  },
  {
   "cell_type": "code",
   "execution_count": 30,
   "metadata": {},
   "outputs": [
    {
     "name": "stdout",
     "output_type": "stream",
     "text": [
      "root\n",
      " |-- ssntoken: string (nullable = true)\n",
      " |-- product_key: integer (nullable = true)\n",
      " |-- product_segment: string (nullable = true)\n",
      " |-- postedtransactionv2key: string (nullable = true)\n",
      " |-- transdtlkey: long (nullable = true)\n",
      " |-- customerkey: long (nullable = true)\n",
      " |-- cardkey: long (nullable = true)\n",
      " |-- trancode: string (nullable = true)\n",
      " |-- postdate: timestamp (nullable = true)\n",
      " |-- transdate: timestamp (nullable = true)\n",
      " |-- transamt: decimal(19,4) (nullable = true)\n",
      " |-- merch_name: string (nullable = true)\n",
      " |-- merch_trunc: string (nullable = true)\n",
      " |-- mcc: string (nullable = true)\n",
      " |-- mcc_description: string (nullable = true)\n",
      " |-- mcc_category: string (nullable = true)\n",
      " |-- merch_city: string (nullable = true)\n",
      " |-- merch_state: string (nullable = true)\n",
      " |-- merch_zip: string (nullable = true)\n",
      " |-- online_retail_product: string (nullable = true)\n",
      " |-- bin: string (nullable = true)\n",
      " |-- product_code: string (nullable = true)\n",
      " |-- product_name: string (nullable = true)\n",
      " |-- product_desc: string (nullable = true)\n",
      " |-- card_type_desc: string (nullable = true)\n",
      " |-- partner_desc: string (nullable = true)\n",
      " |-- association_name: string (nullable = true)\n",
      " |-- portfolio_name: string (nullable = true)\n",
      " |-- product_lifecycle_desc: string (nullable = true)\n",
      " |-- brand_name: string (nullable = true)\n",
      " |-- activation_fee: decimal(10,4) (nullable = true)\n",
      " |-- reload_limit: decimal(10,4) (nullable = true)\n",
      " |-- ispersonalized: boolean (nullable = true)\n",
      " |-- hascrv: boolean (nullable = true)\n",
      " |-- isactive: boolean (nullable = true)\n",
      " |-- is_personalized_ind: string (nullable = true)\n",
      " |-- has_crv_ind: string (nullable = true)\n",
      " |-- cardactivationdate: timestamp (nullable = true)\n",
      " |-- tsysloadamount: decimal(19,4) (nullable = true)\n",
      " |-- acctbalance: decimal(19,4) (nullable = true)\n",
      " |-- acctbalanceasof: timestamp (nullable = true)\n",
      " |-- currbalance: decimal(19,4) (nullable = true)\n",
      " |-- currbalanceasof: timestamp (nullable = true)\n",
      " |-- firstused: timestamp (nullable = true)\n",
      " |-- lastpurchaseactivity: timestamp (nullable = true)\n",
      " |-- cust_statuschangedate: timestamp (nullable = true)\n",
      " |-- customer_createdate: timestamp (nullable = true)\n",
      " |-- account_key: integer (nullable = true)\n",
      " |-- account_activation_date: timestamp (nullable = true)\n",
      " |-- initial_load_type: string (nullable = true)\n",
      " |-- last_activity_desc: string (nullable = true)\n",
      " |-- initial_load_date: timestamp (nullable = true)\n",
      " |-- first_reload_date: timestamp (nullable = true)\n",
      " |-- first_direct_deposit_date: timestamp (nullable = true)\n",
      " |-- last_activity_date: timestamp (nullable = true)\n",
      " |-- dob_year: short (nullable = true)\n",
      " |-- residentialcity: string (nullable = true)\n",
      " |-- residentialstate: string (nullable = true)\n",
      " |-- residentialzipcode: string (nullable = true)\n",
      " |-- customer_city: string (nullable = true)\n",
      " |-- customer_state: string (nullable = true)\n",
      " |-- customer_zipcode: string (nullable = true)\n",
      " |-- email_domain: string (nullable = true)\n",
      " |-- dispute: string (nullable = true)\n",
      " |-- child_casenumber: string (nullable = true)\n",
      " |-- parent_casenumber: string (nullable = true)\n",
      " |-- dispute_created_date: timestamp (nullable = true)\n",
      " |-- dispute_closed_date: timestamp (nullable = true)\n",
      " |-- closed_open_status: string (nullable = true)\n",
      " |-- dispute_amount: decimal(19,4) (nullable = true)\n",
      " |-- dollar_bucket: string (nullable = true)\n",
      " |-- dispute_reason: string (nullable = true)\n",
      " |-- dispute_resolution: string (nullable = true)\n",
      " |-- dispute_declined_reason: string (nullable = true)\n",
      " |-- channel_disposition__c: string (nullable = true)\n",
      " |-- number_of_dispute_transactions_filed_before: integer (nullable = true)\n",
      " |-- dpanid: string (nullable = true)\n",
      " |-- iscardpresent: boolean (nullable = true)\n",
      " |-- isauthmatched: boolean (nullable = true)\n",
      " |-- iscredit: boolean (nullable = true)\n",
      " |-- messagehashid: string (nullable = true)\n",
      " |-- authorizationmessagehashid: string (nullable = true)\n",
      " |-- posentrydata: string (nullable = true)\n",
      " |-- pt_posteddate: timestamp (nullable = true)\n",
      " |-- responsecode: string (nullable = true)\n",
      " |-- post_month: timestamp (nullable = true)\n",
      " |-- date_from_creation: long (nullable = true)\n",
      " |-- obs_90: integer (nullable = true)\n",
      " |-- target: integer (nullable = true)\n",
      " |-- unique_trancodes: long (nullable = true)\n",
      " |-- unique_cardkeys: long (nullable = true)\n",
      "\n"
     ]
    }
   ],
   "source": [
    "df_new_1.printSchema()"
   ]
  },
  {
   "cell_type": "code",
   "execution_count": 31,
   "metadata": {},
   "outputs": [],
   "source": [
    "from pyspark.sql import Window\n",
    "df_trancode = (\n",
    "    df_new\n",
    "    .groupBy('ssntoken')\n",
    "    .agg(countDistinct(col(\"trancode\")).alias(\"unique_trancode_count\")\n",
    "))\n",
    "ssn_trancode_window = F.row_number().over(Window.partitionBy(\"ssntoken\").orderBy(col(\"transcode_count\").desc()))\n",
    "most_freq_trancode_df = (\n",
    "    df_new\n",
    "    .groupBy(\"ssntoken\", \"trancode\")\n",
    "    .agg(\n",
    "        F.count(col(\"trancode\")).alias(\"transcode_count\")\n",
    "    )\n",
    "    .withColumn(\"rn\", ssn_trancode_window)\n",
    "    .filter(\"rn = 1\")\n",
    "    .select(\n",
    "        col(\"ssntoken\"), col(\"trancode\").alias(\"most_frequent_trancode\")\n",
    "    )\n",
    ")\n",
    "joined_tranc_df = df_trancode.join(most_freq_trancode_df, 'ssntoken', 'inner')\n",
    "df_new_2 = df_new_1.join(joined_tranc_df,\"ssntoken\", how='left')\n"
   ]
  },
  {
   "cell_type": "code",
   "execution_count": 32,
   "metadata": {},
   "outputs": [
    {
     "name": "stdout",
     "output_type": "stream",
     "text": [
      "root\n",
      " |-- ssntoken: string (nullable = true)\n",
      " |-- product_key: integer (nullable = true)\n",
      " |-- product_segment: string (nullable = true)\n",
      " |-- postedtransactionv2key: string (nullable = true)\n",
      " |-- transdtlkey: long (nullable = true)\n",
      " |-- customerkey: long (nullable = true)\n",
      " |-- cardkey: long (nullable = true)\n",
      " |-- trancode: string (nullable = true)\n",
      " |-- postdate: timestamp (nullable = true)\n",
      " |-- transdate: timestamp (nullable = true)\n",
      " |-- transamt: decimal(19,4) (nullable = true)\n",
      " |-- merch_name: string (nullable = true)\n",
      " |-- merch_trunc: string (nullable = true)\n",
      " |-- mcc: string (nullable = true)\n",
      " |-- mcc_description: string (nullable = true)\n",
      " |-- mcc_category: string (nullable = true)\n",
      " |-- merch_city: string (nullable = true)\n",
      " |-- merch_state: string (nullable = true)\n",
      " |-- merch_zip: string (nullable = true)\n",
      " |-- online_retail_product: string (nullable = true)\n",
      " |-- bin: string (nullable = true)\n",
      " |-- product_code: string (nullable = true)\n",
      " |-- product_name: string (nullable = true)\n",
      " |-- product_desc: string (nullable = true)\n",
      " |-- card_type_desc: string (nullable = true)\n",
      " |-- partner_desc: string (nullable = true)\n",
      " |-- association_name: string (nullable = true)\n",
      " |-- portfolio_name: string (nullable = true)\n",
      " |-- product_lifecycle_desc: string (nullable = true)\n",
      " |-- brand_name: string (nullable = true)\n",
      " |-- activation_fee: decimal(10,4) (nullable = true)\n",
      " |-- reload_limit: decimal(10,4) (nullable = true)\n",
      " |-- ispersonalized: boolean (nullable = true)\n",
      " |-- hascrv: boolean (nullable = true)\n",
      " |-- isactive: boolean (nullable = true)\n",
      " |-- is_personalized_ind: string (nullable = true)\n",
      " |-- has_crv_ind: string (nullable = true)\n",
      " |-- cardactivationdate: timestamp (nullable = true)\n",
      " |-- tsysloadamount: decimal(19,4) (nullable = true)\n",
      " |-- acctbalance: decimal(19,4) (nullable = true)\n",
      " |-- acctbalanceasof: timestamp (nullable = true)\n",
      " |-- currbalance: decimal(19,4) (nullable = true)\n",
      " |-- currbalanceasof: timestamp (nullable = true)\n",
      " |-- firstused: timestamp (nullable = true)\n",
      " |-- lastpurchaseactivity: timestamp (nullable = true)\n",
      " |-- cust_statuschangedate: timestamp (nullable = true)\n",
      " |-- customer_createdate: timestamp (nullable = true)\n",
      " |-- account_key: integer (nullable = true)\n",
      " |-- account_activation_date: timestamp (nullable = true)\n",
      " |-- initial_load_type: string (nullable = true)\n",
      " |-- last_activity_desc: string (nullable = true)\n",
      " |-- initial_load_date: timestamp (nullable = true)\n",
      " |-- first_reload_date: timestamp (nullable = true)\n",
      " |-- first_direct_deposit_date: timestamp (nullable = true)\n",
      " |-- last_activity_date: timestamp (nullable = true)\n",
      " |-- dob_year: short (nullable = true)\n",
      " |-- residentialcity: string (nullable = true)\n",
      " |-- residentialstate: string (nullable = true)\n",
      " |-- residentialzipcode: string (nullable = true)\n",
      " |-- customer_city: string (nullable = true)\n",
      " |-- customer_state: string (nullable = true)\n",
      " |-- customer_zipcode: string (nullable = true)\n",
      " |-- email_domain: string (nullable = true)\n",
      " |-- dispute: string (nullable = true)\n",
      " |-- child_casenumber: string (nullable = true)\n",
      " |-- parent_casenumber: string (nullable = true)\n",
      " |-- dispute_created_date: timestamp (nullable = true)\n",
      " |-- dispute_closed_date: timestamp (nullable = true)\n",
      " |-- closed_open_status: string (nullable = true)\n",
      " |-- dispute_amount: decimal(19,4) (nullable = true)\n",
      " |-- dollar_bucket: string (nullable = true)\n",
      " |-- dispute_reason: string (nullable = true)\n",
      " |-- dispute_resolution: string (nullable = true)\n",
      " |-- dispute_declined_reason: string (nullable = true)\n",
      " |-- channel_disposition__c: string (nullable = true)\n",
      " |-- number_of_dispute_transactions_filed_before: integer (nullable = true)\n",
      " |-- dpanid: string (nullable = true)\n",
      " |-- iscardpresent: boolean (nullable = true)\n",
      " |-- isauthmatched: boolean (nullable = true)\n",
      " |-- iscredit: boolean (nullable = true)\n",
      " |-- messagehashid: string (nullable = true)\n",
      " |-- authorizationmessagehashid: string (nullable = true)\n",
      " |-- posentrydata: string (nullable = true)\n",
      " |-- pt_posteddate: timestamp (nullable = true)\n",
      " |-- responsecode: string (nullable = true)\n",
      " |-- post_month: timestamp (nullable = true)\n",
      " |-- date_from_creation: long (nullable = true)\n",
      " |-- obs_90: integer (nullable = true)\n",
      " |-- target: integer (nullable = true)\n",
      " |-- unique_trancodes: long (nullable = true)\n",
      " |-- unique_cardkeys: long (nullable = true)\n",
      " |-- unique_trancode_count: long (nullable = true)\n",
      " |-- most_frequent_trancode: string (nullable = true)\n",
      "\n"
     ]
    }
   ],
   "source": [
    "df_new_2.printSchema()"
   ]
  },
  {
   "cell_type": "code",
   "execution_count": 33,
   "metadata": {},
   "outputs": [],
   "source": [
    "df_merch = df_new.groupBy('ssntoken').agg(countDistinct(col(\"mcc_category\")).alias(\"unique_merch\")\\\n",
    "                                            ,).orderBy(\"unique_merch\",ascending=False)"
   ]
  },
  {
   "cell_type": "code",
   "execution_count": 34,
   "metadata": {},
   "outputs": [
    {
     "name": "stdout",
     "output_type": "stream",
     "text": [
      "root\n",
      " |-- ssntoken: string (nullable = true)\n",
      " |-- product_key: integer (nullable = true)\n",
      " |-- product_segment: string (nullable = true)\n",
      " |-- postedtransactionv2key: string (nullable = true)\n",
      " |-- transdtlkey: long (nullable = true)\n",
      " |-- customerkey: long (nullable = true)\n",
      " |-- cardkey: long (nullable = true)\n",
      " |-- trancode: string (nullable = true)\n",
      " |-- postdate: timestamp (nullable = true)\n",
      " |-- transdate: timestamp (nullable = true)\n",
      " |-- transamt: decimal(19,4) (nullable = true)\n",
      " |-- merch_name: string (nullable = true)\n",
      " |-- merch_trunc: string (nullable = true)\n",
      " |-- mcc: string (nullable = true)\n",
      " |-- mcc_description: string (nullable = true)\n",
      " |-- mcc_category: string (nullable = true)\n",
      " |-- merch_city: string (nullable = true)\n",
      " |-- merch_state: string (nullable = true)\n",
      " |-- merch_zip: string (nullable = true)\n",
      " |-- online_retail_product: string (nullable = true)\n",
      " |-- bin: string (nullable = true)\n",
      " |-- product_code: string (nullable = true)\n",
      " |-- product_name: string (nullable = true)\n",
      " |-- product_desc: string (nullable = true)\n",
      " |-- card_type_desc: string (nullable = true)\n",
      " |-- partner_desc: string (nullable = true)\n",
      " |-- association_name: string (nullable = true)\n",
      " |-- portfolio_name: string (nullable = true)\n",
      " |-- product_lifecycle_desc: string (nullable = true)\n",
      " |-- brand_name: string (nullable = true)\n",
      " |-- activation_fee: decimal(10,4) (nullable = true)\n",
      " |-- reload_limit: decimal(10,4) (nullable = true)\n",
      " |-- ispersonalized: boolean (nullable = true)\n",
      " |-- hascrv: boolean (nullable = true)\n",
      " |-- isactive: boolean (nullable = true)\n",
      " |-- is_personalized_ind: string (nullable = true)\n",
      " |-- has_crv_ind: string (nullable = true)\n",
      " |-- cardactivationdate: timestamp (nullable = true)\n",
      " |-- tsysloadamount: decimal(19,4) (nullable = true)\n",
      " |-- acctbalance: decimal(19,4) (nullable = true)\n",
      " |-- acctbalanceasof: timestamp (nullable = true)\n",
      " |-- currbalance: decimal(19,4) (nullable = true)\n",
      " |-- currbalanceasof: timestamp (nullable = true)\n",
      " |-- firstused: timestamp (nullable = true)\n",
      " |-- lastpurchaseactivity: timestamp (nullable = true)\n",
      " |-- cust_statuschangedate: timestamp (nullable = true)\n",
      " |-- customer_createdate: timestamp (nullable = true)\n",
      " |-- account_key: integer (nullable = true)\n",
      " |-- account_activation_date: timestamp (nullable = true)\n",
      " |-- initial_load_type: string (nullable = true)\n",
      " |-- last_activity_desc: string (nullable = true)\n",
      " |-- initial_load_date: timestamp (nullable = true)\n",
      " |-- first_reload_date: timestamp (nullable = true)\n",
      " |-- first_direct_deposit_date: timestamp (nullable = true)\n",
      " |-- last_activity_date: timestamp (nullable = true)\n",
      " |-- dob_year: short (nullable = true)\n",
      " |-- residentialcity: string (nullable = true)\n",
      " |-- residentialstate: string (nullable = true)\n",
      " |-- residentialzipcode: string (nullable = true)\n",
      " |-- customer_city: string (nullable = true)\n",
      " |-- customer_state: string (nullable = true)\n",
      " |-- customer_zipcode: string (nullable = true)\n",
      " |-- email_domain: string (nullable = true)\n",
      " |-- dispute: string (nullable = true)\n",
      " |-- child_casenumber: string (nullable = true)\n",
      " |-- parent_casenumber: string (nullable = true)\n",
      " |-- dispute_created_date: timestamp (nullable = true)\n",
      " |-- dispute_closed_date: timestamp (nullable = true)\n",
      " |-- closed_open_status: string (nullable = true)\n",
      " |-- dispute_amount: decimal(19,4) (nullable = true)\n",
      " |-- dollar_bucket: string (nullable = true)\n",
      " |-- dispute_reason: string (nullable = true)\n",
      " |-- dispute_resolution: string (nullable = true)\n",
      " |-- dispute_declined_reason: string (nullable = true)\n",
      " |-- channel_disposition__c: string (nullable = true)\n",
      " |-- number_of_dispute_transactions_filed_before: integer (nullable = true)\n",
      " |-- dpanid: string (nullable = true)\n",
      " |-- iscardpresent: boolean (nullable = true)\n",
      " |-- isauthmatched: boolean (nullable = true)\n",
      " |-- iscredit: boolean (nullable = true)\n",
      " |-- messagehashid: string (nullable = true)\n",
      " |-- authorizationmessagehashid: string (nullable = true)\n",
      " |-- posentrydata: string (nullable = true)\n",
      " |-- pt_posteddate: timestamp (nullable = true)\n",
      " |-- responsecode: string (nullable = true)\n",
      " |-- post_month: timestamp (nullable = true)\n",
      " |-- date_from_creation: long (nullable = true)\n",
      " |-- obs_90: integer (nullable = true)\n",
      " |-- target: integer (nullable = true)\n",
      " |-- unique_trancodes: long (nullable = true)\n",
      " |-- unique_cardkeys: long (nullable = true)\n",
      " |-- unique_trancode_count: long (nullable = true)\n",
      " |-- most_frequent_trancode: string (nullable = true)\n",
      " |-- unique_merch: long (nullable = true)\n",
      "\n"
     ]
    }
   ],
   "source": [
    "df_new_3 = df_new_2.join(df_merch,\"ssntoken\", how='left')\n",
    "df_new_3.printSchema()"
   ]
  },
  {
   "cell_type": "code",
   "execution_count": 35,
   "metadata": {},
   "outputs": [
    {
     "name": "stdout",
     "output_type": "stream",
     "text": [
      "root\n",
      " |-- ssntoken: string (nullable = true)\n",
      " |-- product_key: integer (nullable = true)\n",
      " |-- product_segment: string (nullable = true)\n",
      " |-- postedtransactionv2key: string (nullable = true)\n",
      " |-- transdtlkey: long (nullable = true)\n",
      " |-- customerkey: long (nullable = true)\n",
      " |-- cardkey: long (nullable = true)\n",
      " |-- trancode: string (nullable = true)\n",
      " |-- postdate: timestamp (nullable = true)\n",
      " |-- transdate: timestamp (nullable = true)\n",
      " |-- transamt: decimal(19,4) (nullable = true)\n",
      " |-- merch_name: string (nullable = true)\n",
      " |-- merch_trunc: string (nullable = true)\n",
      " |-- mcc: string (nullable = true)\n",
      " |-- mcc_description: string (nullable = true)\n",
      " |-- mcc_category: string (nullable = true)\n",
      " |-- merch_city: string (nullable = true)\n",
      " |-- merch_state: string (nullable = true)\n",
      " |-- merch_zip: string (nullable = true)\n",
      " |-- online_retail_product: string (nullable = true)\n",
      " |-- bin: string (nullable = true)\n",
      " |-- product_code: string (nullable = true)\n",
      " |-- product_name: string (nullable = true)\n",
      " |-- product_desc: string (nullable = true)\n",
      " |-- card_type_desc: string (nullable = true)\n",
      " |-- partner_desc: string (nullable = true)\n",
      " |-- association_name: string (nullable = true)\n",
      " |-- portfolio_name: string (nullable = true)\n",
      " |-- product_lifecycle_desc: string (nullable = true)\n",
      " |-- brand_name: string (nullable = true)\n",
      " |-- activation_fee: decimal(10,4) (nullable = true)\n",
      " |-- reload_limit: decimal(10,4) (nullable = true)\n",
      " |-- ispersonalized: boolean (nullable = true)\n",
      " |-- hascrv: boolean (nullable = true)\n",
      " |-- isactive: boolean (nullable = true)\n",
      " |-- is_personalized_ind: string (nullable = true)\n",
      " |-- has_crv_ind: string (nullable = true)\n",
      " |-- cardactivationdate: timestamp (nullable = true)\n",
      " |-- tsysloadamount: decimal(19,4) (nullable = true)\n",
      " |-- acctbalance: decimal(19,4) (nullable = true)\n",
      " |-- acctbalanceasof: timestamp (nullable = true)\n",
      " |-- currbalance: decimal(19,4) (nullable = true)\n",
      " |-- currbalanceasof: timestamp (nullable = true)\n",
      " |-- firstused: timestamp (nullable = true)\n",
      " |-- lastpurchaseactivity: timestamp (nullable = true)\n",
      " |-- cust_statuschangedate: timestamp (nullable = true)\n",
      " |-- customer_createdate: timestamp (nullable = true)\n",
      " |-- account_key: integer (nullable = true)\n",
      " |-- account_activation_date: timestamp (nullable = true)\n",
      " |-- initial_load_type: string (nullable = true)\n",
      " |-- last_activity_desc: string (nullable = true)\n",
      " |-- initial_load_date: timestamp (nullable = true)\n",
      " |-- first_reload_date: timestamp (nullable = true)\n",
      " |-- first_direct_deposit_date: timestamp (nullable = true)\n",
      " |-- last_activity_date: timestamp (nullable = true)\n",
      " |-- dob_year: short (nullable = true)\n",
      " |-- residentialcity: string (nullable = true)\n",
      " |-- residentialstate: string (nullable = true)\n",
      " |-- residentialzipcode: string (nullable = true)\n",
      " |-- customer_city: string (nullable = true)\n",
      " |-- customer_state: string (nullable = true)\n",
      " |-- customer_zipcode: string (nullable = true)\n",
      " |-- email_domain: string (nullable = true)\n",
      " |-- dispute: string (nullable = true)\n",
      " |-- child_casenumber: string (nullable = true)\n",
      " |-- parent_casenumber: string (nullable = true)\n",
      " |-- dispute_created_date: timestamp (nullable = true)\n",
      " |-- dispute_closed_date: timestamp (nullable = true)\n",
      " |-- closed_open_status: string (nullable = true)\n",
      " |-- dispute_amount: decimal(19,4) (nullable = true)\n",
      " |-- dollar_bucket: string (nullable = true)\n",
      " |-- dispute_reason: string (nullable = true)\n",
      " |-- dispute_resolution: string (nullable = true)\n",
      " |-- dispute_declined_reason: string (nullable = true)\n",
      " |-- channel_disposition__c: string (nullable = true)\n",
      " |-- number_of_dispute_transactions_filed_before: integer (nullable = true)\n",
      " |-- dpanid: string (nullable = true)\n",
      " |-- iscardpresent: boolean (nullable = true)\n",
      " |-- isauthmatched: boolean (nullable = true)\n",
      " |-- iscredit: boolean (nullable = true)\n",
      " |-- messagehashid: string (nullable = true)\n",
      " |-- authorizationmessagehashid: string (nullable = true)\n",
      " |-- posentrydata: string (nullable = true)\n",
      " |-- pt_posteddate: timestamp (nullable = true)\n",
      " |-- responsecode: string (nullable = true)\n",
      " |-- post_month: timestamp (nullable = true)\n",
      " |-- date_from_creation: long (nullable = true)\n",
      " |-- obs_90: integer (nullable = true)\n",
      " |-- target: integer (nullable = true)\n",
      " |-- unique_trancodes: long (nullable = true)\n",
      " |-- unique_cardkeys: long (nullable = true)\n",
      " |-- unique_trancode_count: long (nullable = true)\n",
      " |-- most_frequent_trancode: string (nullable = true)\n",
      " |-- unique_mcc_count: long (nullable = true)\n",
      " |-- most_frequent_mcc: string (nullable = true)\n",
      "\n"
     ]
    }
   ],
   "source": [
    "df_merch = (\n",
    "    df_new\n",
    "    .groupBy('ssntoken')\n",
    "    .agg(countDistinct(col(\"mcc_category\")).alias(\"unique_mcc_count\")\n",
    "))\n",
    "ssn_mcc_window = F.row_number().over(Window.partitionBy(\"ssntoken\").orderBy(col(\"mcc_count\").desc()))\n",
    "most_freq_mcc_df = (\n",
    "    df_new\n",
    "    .groupBy(\"ssntoken\", \"mcc_category\")\n",
    "    .agg(\n",
    "        F.count(col(\"mcc_category\")).alias(\"mcc_count\")\n",
    "    )\n",
    "    .withColumn(\"rn\", ssn_mcc_window)\n",
    "    .filter(\"rn = 1\")\n",
    "    .select(\n",
    "        col(\"ssntoken\"), col(\"mcc_category\").alias(\"most_frequent_mcc\")\n",
    "    )\n",
    ")\n",
    "joined_mcc_df = df_merch.join(most_freq_mcc_df, 'ssntoken', 'inner')\n",
    "df_new_3 = df_new_2.join(joined_mcc_df,\"ssntoken\", how='left')\n",
    "df_new_3.printSchema()"
   ]
  },
  {
   "cell_type": "code",
   "execution_count": 36,
   "metadata": {},
   "outputs": [
    {
     "name": "stdout",
     "output_type": "stream",
     "text": [
      "root\n",
      " |-- ssntoken: string (nullable = true)\n",
      " |-- product_key: integer (nullable = true)\n",
      " |-- product_segment: string (nullable = true)\n",
      " |-- postedtransactionv2key: string (nullable = true)\n",
      " |-- transdtlkey: long (nullable = true)\n",
      " |-- customerkey: long (nullable = true)\n",
      " |-- cardkey: long (nullable = true)\n",
      " |-- trancode: string (nullable = true)\n",
      " |-- postdate: timestamp (nullable = true)\n",
      " |-- transdate: timestamp (nullable = true)\n",
      " |-- transamt: decimal(19,4) (nullable = true)\n",
      " |-- merch_name: string (nullable = true)\n",
      " |-- merch_trunc: string (nullable = true)\n",
      " |-- mcc: string (nullable = true)\n",
      " |-- mcc_description: string (nullable = true)\n",
      " |-- mcc_category: string (nullable = true)\n",
      " |-- merch_city: string (nullable = true)\n",
      " |-- merch_state: string (nullable = true)\n",
      " |-- merch_zip: string (nullable = true)\n",
      " |-- online_retail_product: string (nullable = true)\n",
      " |-- bin: string (nullable = true)\n",
      " |-- product_code: string (nullable = true)\n",
      " |-- product_name: string (nullable = true)\n",
      " |-- product_desc: string (nullable = true)\n",
      " |-- card_type_desc: string (nullable = true)\n",
      " |-- partner_desc: string (nullable = true)\n",
      " |-- association_name: string (nullable = true)\n",
      " |-- portfolio_name: string (nullable = true)\n",
      " |-- product_lifecycle_desc: string (nullable = true)\n",
      " |-- brand_name: string (nullable = true)\n",
      " |-- activation_fee: decimal(10,4) (nullable = true)\n",
      " |-- reload_limit: decimal(10,4) (nullable = true)\n",
      " |-- ispersonalized: boolean (nullable = true)\n",
      " |-- hascrv: boolean (nullable = true)\n",
      " |-- isactive: boolean (nullable = true)\n",
      " |-- is_personalized_ind: string (nullable = true)\n",
      " |-- has_crv_ind: string (nullable = true)\n",
      " |-- cardactivationdate: timestamp (nullable = true)\n",
      " |-- tsysloadamount: decimal(19,4) (nullable = true)\n",
      " |-- acctbalance: decimal(19,4) (nullable = true)\n",
      " |-- acctbalanceasof: timestamp (nullable = true)\n",
      " |-- currbalance: decimal(19,4) (nullable = true)\n",
      " |-- currbalanceasof: timestamp (nullable = true)\n",
      " |-- firstused: timestamp (nullable = true)\n",
      " |-- lastpurchaseactivity: timestamp (nullable = true)\n",
      " |-- cust_statuschangedate: timestamp (nullable = true)\n",
      " |-- customer_createdate: timestamp (nullable = true)\n",
      " |-- account_key: integer (nullable = true)\n",
      " |-- account_activation_date: timestamp (nullable = true)\n",
      " |-- initial_load_type: string (nullable = true)\n",
      " |-- last_activity_desc: string (nullable = true)\n",
      " |-- initial_load_date: timestamp (nullable = true)\n",
      " |-- first_reload_date: timestamp (nullable = true)\n",
      " |-- first_direct_deposit_date: timestamp (nullable = true)\n",
      " |-- last_activity_date: timestamp (nullable = true)\n",
      " |-- dob_year: short (nullable = true)\n",
      " |-- residentialcity: string (nullable = true)\n",
      " |-- residentialstate: string (nullable = true)\n",
      " |-- residentialzipcode: string (nullable = true)\n",
      " |-- customer_city: string (nullable = true)\n",
      " |-- customer_state: string (nullable = true)\n",
      " |-- customer_zipcode: string (nullable = true)\n",
      " |-- email_domain: string (nullable = true)\n",
      " |-- dispute: string (nullable = true)\n",
      " |-- child_casenumber: string (nullable = true)\n",
      " |-- parent_casenumber: string (nullable = true)\n",
      " |-- dispute_created_date: timestamp (nullable = true)\n",
      " |-- dispute_closed_date: timestamp (nullable = true)\n",
      " |-- closed_open_status: string (nullable = true)\n",
      " |-- dispute_amount: decimal(19,4) (nullable = true)\n",
      " |-- dollar_bucket: string (nullable = true)\n",
      " |-- dispute_reason: string (nullable = true)\n",
      " |-- dispute_resolution: string (nullable = true)\n",
      " |-- dispute_declined_reason: string (nullable = true)\n",
      " |-- channel_disposition__c: string (nullable = true)\n",
      " |-- number_of_dispute_transactions_filed_before: integer (nullable = true)\n",
      " |-- dpanid: string (nullable = true)\n",
      " |-- iscardpresent: boolean (nullable = true)\n",
      " |-- isauthmatched: boolean (nullable = true)\n",
      " |-- iscredit: boolean (nullable = true)\n",
      " |-- messagehashid: string (nullable = true)\n",
      " |-- authorizationmessagehashid: string (nullable = true)\n",
      " |-- posentrydata: string (nullable = true)\n",
      " |-- pt_posteddate: timestamp (nullable = true)\n",
      " |-- responsecode: string (nullable = true)\n",
      " |-- post_month: timestamp (nullable = true)\n",
      " |-- date_from_creation: long (nullable = true)\n",
      " |-- obs_90: integer (nullable = true)\n",
      " |-- target: integer (nullable = true)\n",
      " |-- unique_trancodes: long (nullable = true)\n",
      " |-- unique_cardkeys: long (nullable = true)\n",
      " |-- unique_trancode_count: long (nullable = true)\n",
      " |-- most_frequent_trancode: string (nullable = true)\n",
      " |-- unique_mcc_count: long (nullable = true)\n",
      " |-- most_frequent_mcc: string (nullable = true)\n",
      " |-- unique_cities: long (nullable = true)\n",
      " |-- unique_zip: long (nullable = true)\n",
      " |-- unique_states: long (nullable = true)\n",
      "\n"
     ]
    }
   ],
   "source": [
    "df_merch = df_new.groupBy('ssntoken').agg(countDistinct(col(\"merch_city\")).alias(\"unique_cities\")\\\n",
    "                                          ,countDistinct(col(\"merch_zip\")).alias(\"unique_zip\")\n",
    "                                          ,countDistinct(col(\"merch_state\")).alias(\"unique_states\")\n",
    "                                            ,).orderBy(\"unique_cities\",ascending=False)\n",
    "\n",
    "df_new_4 = df_new_3.join(df_merch,\"ssntoken\", how='left')\n",
    "df_new_4.printSchema()"
   ]
  },
  {
   "cell_type": "code",
   "execution_count": 37,
   "metadata": {},
   "outputs": [
    {
     "ename": "Py4JJavaError",
     "evalue": "An error occurred while calling o379.save.\n: java.io.IOException: Error getting Bucket greendot-events:\n{\"code\":403,\"errors\":[{\"domain\":\"global\",\"message\":\"865475175237-compute@developer.gserviceaccount.com does not have storage.buckets.get access to the Google Cloud Storage bucket.\",\"reason\":\"forbidden\"}],\"message\":\"865475175237-compute@developer.gserviceaccount.com does not have storage.buckets.get access to the Google Cloud Storage bucket.\"}\n\tat com.google.cloud.hadoop.repackaged.gcs.com.google.cloud.hadoop.gcsio.GoogleCloudStorageImpl$8.onFailure(GoogleCloudStorageImpl.java:1676)\n\tat com.google.cloud.hadoop.repackaged.gcs.com.google.cloud.hadoop.gcsio.BatchHelper.execute(BatchHelper.java:182)\n\tat com.google.cloud.hadoop.repackaged.gcs.com.google.cloud.hadoop.gcsio.BatchHelper.lambda$queue$0(BatchHelper.java:163)\n\tat java.util.concurrent.FutureTask.run(FutureTask.java:266)\n\tat java.util.concurrent.ThreadPoolExecutor.runWorker(ThreadPoolExecutor.java:1149)\n\tat java.util.concurrent.ThreadPoolExecutor$Worker.run(ThreadPoolExecutor.java:624)\n\tat java.lang.Thread.run(Thread.java:748)\n",
     "output_type": "error",
     "traceback": [
      "\u001b[0;31m\u001b[0m",
      "\u001b[0;31mPy4JJavaError\u001b[0mTraceback (most recent call last)",
      "\u001b[0;32m<ipython-input-37-49d9e36d2429>\u001b[0m in \u001b[0;36m<module>\u001b[0;34m()\u001b[0m\n\u001b[1;32m      4\u001b[0m      \u001b[0;34m.\u001b[0m\u001b[0mmode\u001b[0m\u001b[0;34m(\u001b[0m\u001b[0;34m'overwrite'\u001b[0m\u001b[0;34m)\u001b[0m\u001b[0;34m\u001b[0m\u001b[0m\n\u001b[1;32m      5\u001b[0m      \u001b[0;34m.\u001b[0m\u001b[0moption\u001b[0m\u001b[0;34m(\u001b[0m\u001b[0;34m'compression'\u001b[0m\u001b[0;34m,\u001b[0m \u001b[0;34m'snappy'\u001b[0m\u001b[0;34m)\u001b[0m\u001b[0;34m\u001b[0m\u001b[0m\n\u001b[0;32m----> 6\u001b[0;31m      \u001b[0;34m.\u001b[0m\u001b[0msave\u001b[0m\u001b[0;34m(\u001b[0m\u001b[0;34m'gs://greendot-events/je/sample_data'\u001b[0m\u001b[0;34m)\u001b[0m\u001b[0;34m\u001b[0m\u001b[0m\n\u001b[0m\u001b[1;32m      7\u001b[0m )\n",
      "\u001b[0;32m/usr/lib/spark/python/pyspark/sql/readwriter.pyc\u001b[0m in \u001b[0;36msave\u001b[0;34m(self, path, format, mode, partitionBy, **options)\u001b[0m\n\u001b[1;32m    703\u001b[0m             \u001b[0mself\u001b[0m\u001b[0;34m.\u001b[0m\u001b[0m_jwrite\u001b[0m\u001b[0;34m.\u001b[0m\u001b[0msave\u001b[0m\u001b[0;34m(\u001b[0m\u001b[0;34m)\u001b[0m\u001b[0;34m\u001b[0m\u001b[0m\n\u001b[1;32m    704\u001b[0m         \u001b[0;32melse\u001b[0m\u001b[0;34m:\u001b[0m\u001b[0;34m\u001b[0m\u001b[0m\n\u001b[0;32m--> 705\u001b[0;31m             \u001b[0mself\u001b[0m\u001b[0;34m.\u001b[0m\u001b[0m_jwrite\u001b[0m\u001b[0;34m.\u001b[0m\u001b[0msave\u001b[0m\u001b[0;34m(\u001b[0m\u001b[0mpath\u001b[0m\u001b[0;34m)\u001b[0m\u001b[0;34m\u001b[0m\u001b[0m\n\u001b[0m\u001b[1;32m    706\u001b[0m \u001b[0;34m\u001b[0m\u001b[0m\n\u001b[1;32m    707\u001b[0m     \u001b[0;34m@\u001b[0m\u001b[0msince\u001b[0m\u001b[0;34m(\u001b[0m\u001b[0;36m1.4\u001b[0m\u001b[0;34m)\u001b[0m\u001b[0;34m\u001b[0m\u001b[0m\n",
      "\u001b[0;32m/usr/lib/spark/python/lib/py4j-0.10.7-src.zip/py4j/java_gateway.py\u001b[0m in \u001b[0;36m__call__\u001b[0;34m(self, *args)\u001b[0m\n\u001b[1;32m   1255\u001b[0m         \u001b[0manswer\u001b[0m \u001b[0;34m=\u001b[0m \u001b[0mself\u001b[0m\u001b[0;34m.\u001b[0m\u001b[0mgateway_client\u001b[0m\u001b[0;34m.\u001b[0m\u001b[0msend_command\u001b[0m\u001b[0;34m(\u001b[0m\u001b[0mcommand\u001b[0m\u001b[0;34m)\u001b[0m\u001b[0;34m\u001b[0m\u001b[0m\n\u001b[1;32m   1256\u001b[0m         return_value = get_return_value(\n\u001b[0;32m-> 1257\u001b[0;31m             answer, self.gateway_client, self.target_id, self.name)\n\u001b[0m\u001b[1;32m   1258\u001b[0m \u001b[0;34m\u001b[0m\u001b[0m\n\u001b[1;32m   1259\u001b[0m         \u001b[0;32mfor\u001b[0m \u001b[0mtemp_arg\u001b[0m \u001b[0;32min\u001b[0m \u001b[0mtemp_args\u001b[0m\u001b[0;34m:\u001b[0m\u001b[0;34m\u001b[0m\u001b[0m\n",
      "\u001b[0;32m/usr/lib/spark/python/pyspark/sql/utils.pyc\u001b[0m in \u001b[0;36mdeco\u001b[0;34m(*a, **kw)\u001b[0m\n\u001b[1;32m     61\u001b[0m     \u001b[0;32mdef\u001b[0m \u001b[0mdeco\u001b[0m\u001b[0;34m(\u001b[0m\u001b[0;34m*\u001b[0m\u001b[0ma\u001b[0m\u001b[0;34m,\u001b[0m \u001b[0;34m**\u001b[0m\u001b[0mkw\u001b[0m\u001b[0;34m)\u001b[0m\u001b[0;34m:\u001b[0m\u001b[0;34m\u001b[0m\u001b[0m\n\u001b[1;32m     62\u001b[0m         \u001b[0;32mtry\u001b[0m\u001b[0;34m:\u001b[0m\u001b[0;34m\u001b[0m\u001b[0m\n\u001b[0;32m---> 63\u001b[0;31m             \u001b[0;32mreturn\u001b[0m \u001b[0mf\u001b[0m\u001b[0;34m(\u001b[0m\u001b[0;34m*\u001b[0m\u001b[0ma\u001b[0m\u001b[0;34m,\u001b[0m \u001b[0;34m**\u001b[0m\u001b[0mkw\u001b[0m\u001b[0;34m)\u001b[0m\u001b[0;34m\u001b[0m\u001b[0m\n\u001b[0m\u001b[1;32m     64\u001b[0m         \u001b[0;32mexcept\u001b[0m \u001b[0mpy4j\u001b[0m\u001b[0;34m.\u001b[0m\u001b[0mprotocol\u001b[0m\u001b[0;34m.\u001b[0m\u001b[0mPy4JJavaError\u001b[0m \u001b[0;32mas\u001b[0m \u001b[0me\u001b[0m\u001b[0;34m:\u001b[0m\u001b[0;34m\u001b[0m\u001b[0m\n\u001b[1;32m     65\u001b[0m             \u001b[0ms\u001b[0m \u001b[0;34m=\u001b[0m \u001b[0me\u001b[0m\u001b[0;34m.\u001b[0m\u001b[0mjava_exception\u001b[0m\u001b[0;34m.\u001b[0m\u001b[0mtoString\u001b[0m\u001b[0;34m(\u001b[0m\u001b[0;34m)\u001b[0m\u001b[0;34m\u001b[0m\u001b[0m\n",
      "\u001b[0;32m/usr/lib/spark/python/lib/py4j-0.10.7-src.zip/py4j/protocol.py\u001b[0m in \u001b[0;36mget_return_value\u001b[0;34m(answer, gateway_client, target_id, name)\u001b[0m\n\u001b[1;32m    326\u001b[0m                 raise Py4JJavaError(\n\u001b[1;32m    327\u001b[0m                     \u001b[0;34m\"An error occurred while calling {0}{1}{2}.\\n\"\u001b[0m\u001b[0;34m.\u001b[0m\u001b[0;34m\u001b[0m\u001b[0m\n\u001b[0;32m--> 328\u001b[0;31m                     format(target_id, \".\", name), value)\n\u001b[0m\u001b[1;32m    329\u001b[0m             \u001b[0;32melse\u001b[0m\u001b[0;34m:\u001b[0m\u001b[0;34m\u001b[0m\u001b[0m\n\u001b[1;32m    330\u001b[0m                 raise Py4JError(\n",
      "\u001b[0;31mPy4JJavaError\u001b[0m: An error occurred while calling o379.save.\n: java.io.IOException: Error getting Bucket greendot-events:\n{\"code\":403,\"errors\":[{\"domain\":\"global\",\"message\":\"865475175237-compute@developer.gserviceaccount.com does not have storage.buckets.get access to the Google Cloud Storage bucket.\",\"reason\":\"forbidden\"}],\"message\":\"865475175237-compute@developer.gserviceaccount.com does not have storage.buckets.get access to the Google Cloud Storage bucket.\"}\n\tat com.google.cloud.hadoop.repackaged.gcs.com.google.cloud.hadoop.gcsio.GoogleCloudStorageImpl$8.onFailure(GoogleCloudStorageImpl.java:1676)\n\tat com.google.cloud.hadoop.repackaged.gcs.com.google.cloud.hadoop.gcsio.BatchHelper.execute(BatchHelper.java:182)\n\tat com.google.cloud.hadoop.repackaged.gcs.com.google.cloud.hadoop.gcsio.BatchHelper.lambda$queue$0(BatchHelper.java:163)\n\tat java.util.concurrent.FutureTask.run(FutureTask.java:266)\n\tat java.util.concurrent.ThreadPoolExecutor.runWorker(ThreadPoolExecutor.java:1149)\n\tat java.util.concurrent.ThreadPoolExecutor$Worker.run(ThreadPoolExecutor.java:624)\n\tat java.lang.Thread.run(Thread.java:748)\n"
     ]
    }
   ],
   "source": [
    "(\n",
    "    df_new_4.write\n",
    "     .format('parquet')\n",
    "     .mode('overwrite')\n",
    "     .option('compression', 'snappy')\n",
    "     .save('gs://greendot-events/je/sample_data')\n",
    ")"
   ]
  },
  {
   "cell_type": "code",
   "execution_count": null,
   "metadata": {},
   "outputs": [],
   "source": []
  }
 ],
 "metadata": {
  "kernelspec": {
   "display_name": "Python 3",
   "language": "python",
   "name": "python3"
  },
  "language_info": {
   "codemirror_mode": {
    "name": "ipython",
    "version": 3
   },
   "file_extension": ".py",
   "mimetype": "text/x-python",
   "name": "python",
   "nbconvert_exporter": "python",
   "pygments_lexer": "ipython3",
   "version": "3.7.8"
  }
 },
 "nbformat": 4,
 "nbformat_minor": 2
}
